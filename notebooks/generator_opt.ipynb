{
 "cells": [
  {
   "cell_type": "code",
   "execution_count": 1,
   "metadata": {},
   "outputs": [],
   "source": [
    "### Almost all code in this cell by https://github.com/Vsevolod-pl\n",
    "\n",
    "import cv2\n",
    "import json\n",
    "import argparse\n",
    "import treepoem\n",
    "import numpy as np\n",
    "from matplotlib import pyplot as plt\n",
    "from typing import Optional\n",
    "\n",
    "\n",
    "def load_json(fname, *args, **kwargs):\n",
    "    with open(fname) as f:\n",
    "        return json.load(f, *args, **kwargs)\n",
    "\n",
    "\n",
    "def save_json(jd, fname, *args, indent=4, **kwargs):\n",
    "    with open(fname, 'w') as f:\n",
    "        json.dump(jd, f, *args, indent=indent, **kwargs)\n",
    "\n",
    "\n",
    "def aligned_affine(bar, M, fix_position=True):\n",
    "    xps = [0, 0, 1, 1]\n",
    "    yps = [1, 0, 0, 1]\n",
    "    \n",
    "    height, width, _ = bar.shape\n",
    "    corners = np.array([[x*width, y*height, 1] for x, y in zip(xps, yps)]).T\n",
    "    \n",
    "    if fix_position:\n",
    "        M = M.copy()\n",
    "        M[:,-1] *= 0\n",
    "        M[:,-1] = -np.min(M@corners, axis=-1)\n",
    "\n",
    "    new_sz = np.ceil(np.max(M@corners, axis=-1)).astype(np.int32)\n",
    "    img = cv2.warpAffine(bar, M, new_sz)\n",
    "    return img, M@corners\n",
    "\n",
    "\n",
    "def generate_perspective_distort(img, alpha=0.1, beta=0.01):\n",
    "    xps = [0, 0, 1, 1]\n",
    "    yps = [1, 0, 0, 1]\n",
    "    height, width, _ = img.shape\n",
    "    corners = np.array([[x*width, y*height, 1] for x, y in zip(xps, yps)]).T\n",
    "\n",
    "    M = np.zeros((3,3))\n",
    "    M[:-1,:-1] = np.random.randn(2, 2)*alpha + np.eye(2)*(1.-alpha)\n",
    "    M[-1, :-1] = beta*np.abs(np.random.randn(1,2))\n",
    "    M[:-1,-1] *= 0\n",
    "    M[-1,-1] = 1\n",
    "    coords = (M@corners)[:-1]\n",
    "    M[:-1,-1] = -np.min(coords, axis=-1)\n",
    "    return M\n",
    "\n",
    "def generate_aligned_perspective_distort(img, distribution, **distribution_params):\n",
    "    xps = [0, 0, 1, 1]\n",
    "    yps = [1, 0, 0, 1]\n",
    "    height, width, _ = img.shape\n",
    "    corners = np.array([[x*width, y*height] for x, y in zip(xps, yps)])\n",
    "    corners_old = corners.copy()\n",
    "\n",
    "    dx, dy = distribution(**distribution_params, size=corners.shape).T # np.random.exponential(scale=width*scale, size=corners.shape).T\n",
    "\n",
    "    corners[0,0] -= dx[0]\n",
    "    corners[0,1] += dy[0]\n",
    "\n",
    "    corners[1,0] -= dx[1]\n",
    "    corners[1,1] -= dy[1]\n",
    "\n",
    "    corners[2,0] += dx[2]\n",
    "    corners[2,1] -= dy[2]\n",
    "\n",
    "    corners[3,0] += dx[3]\n",
    "    corners[3,1] += dy[3]\n",
    "\n",
    "    theta = np.math.pi*np.random.random()*2\n",
    "    c, s = np.cos(theta), np.sin(theta)\n",
    "    R = np.array(((c, -s), (s, c)))\n",
    "\n",
    "    corners = corners@R\n",
    "\n",
    "    M = cv2.getPerspectiveTransform(corners_old.astype(np.float32), corners.astype(np.float32))\n",
    "\n",
    "    corners = np.array([[x*width, y*height, 1] for x, y in zip(xps, yps)]).T\n",
    "    M[:-1,-1] *= 0\n",
    "    M[-1,-1] = 1\n",
    "    coords = (M@corners)[:-1]\n",
    "    M[:-1,-1] = -np.min(coords, axis=-1)\n",
    "    coords = M@corners\n",
    "    coords = coords[:-1]/coords[-1]\n",
    "\n",
    "    new_sz = np.ceil(np.max(coords, axis=-1)).astype(np.int32)\n",
    "\n",
    "    return M\n",
    "\n",
    "\n",
    "def aligned_perspective(img, M):\n",
    "    xps = [0, 0, 1, 1]\n",
    "    yps = [1, 0, 0, 1]\n",
    "    height, width, _ = img.shape\n",
    "    corners = np.array([[x*width, y*height, 1] for x, y in zip(xps, yps)]).T\n",
    "    coords = M@corners\n",
    "    coords = coords[:-1]/coords[-1]\n",
    "    \n",
    "    new_sz = np.ceil(np.max(coords, axis=-1)).astype(np.int32)\n",
    "    \n",
    "    img = cv2.warpPerspective(img, M, new_sz)\n",
    "    return img, coords\n",
    "\n",
    "\n",
    "def coords_to_regions(coords, dimensions):\n",
    "    res = []\n",
    "    for i in range(len(coords)):\n",
    "        ptsx, ptsy = coords[i]\n",
    "        \n",
    "        res.append({\\\n",
    "        'shape_attributes': {\n",
    "            'name': 'polygon',\n",
    "            'all_points_x': list(ptsx),\n",
    "            'all_points_y': list(ptsy)\n",
    "        },\n",
    "        'region_attributes': {'barcode': dimensions[i]}})\n",
    "    return res\n",
    "\n",
    "\n",
    "def export(img, name, coords, dimensions):\n",
    "    #np.clip(img, 0, 1)\n",
    "    plt.imsave(f'{name}.jpg', img)\n",
    "    res = {f'{name}.jpg813086': {'filename': f'../code/{name}.jpg',\n",
    "    'size': 813086,\n",
    "    'regions': coords_to_regions(coords, dimensions),\n",
    "    'file_attributes': {}}}\n",
    "    save_json(res, f'{name}.json')\n",
    "\n",
    "\n",
    "def generate_distorted(barcode_types, content_barcodes, source_img=None, distortions=None, opt_params: Optional[dict] = None):\n",
    "    assert isinstance(opt_params, dict), 'Empty optmization space'\n",
    "    barimgs = [treepoem.generate_barcode(typ, content) for typ, content in zip(barcode_types, content_barcodes)]\n",
    "    if distortions is None:\n",
    "        distribution = opt_params['distribution']\n",
    "        distribution_params = opt_params['distribution_params']\n",
    "        distortions = [generate_aligned_perspective_distort(np.array(img), distribution, **distribution_params) for img in barimgs]\n",
    "    imgs, coords = zip(*[aligned_perspective(np.array(img), dis) for img, dis in zip(barimgs, distortions)])\n",
    "    masks, _ = zip(*[aligned_perspective(np.ones_like(img), dis) for img, dis in zip(barimgs, distortions)])\n",
    "    \n",
    "    if source_img is None:\n",
    "        width, height, _ = np.max([img.shape for img in imgs], axis=0)*len(imgs)//3\n",
    "        combined = np.full((width, height, 3), fill_value=np.mean([np.mean(b) for b in barimags]), dtype=imgs[0].dtype)\n",
    "    else:\n",
    "        combined = plt.imread(source_img)[:,:,:3]\n",
    "        width, height, _ = combined.shape\n",
    "\n",
    "    for i in range(len(imgs)):\n",
    "        w, h, _ = imgs[i].shape\n",
    "        if width - w < 0 or height -h < 0:\n",
    "            continue\n",
    "        dw = np.random.randint(0, width - w)\n",
    "        dh = np.random.randint(0, height - h)\n",
    "        coords[i][0] += dh\n",
    "        coords[i][1] += dw\n",
    "        expanded_img = np.zeros_like(combined)\n",
    "        expanded_img[dw:w+dw, dh:h+dh] = imgs[i]\n",
    "        expanded_mask = np.zeros_like(combined)\n",
    "        expanded_mask[dw:w+dw, dh:h+dh] = masks[i]\n",
    "        combined = combined*(1-expanded_mask) + expanded_img\n",
    "    return combined, coords, barimgs\n"
   ]
  },
  {
   "cell_type": "code",
   "execution_count": 2,
   "metadata": {},
   "outputs": [
    {
     "name": "stderr",
     "output_type": "stream",
     "text": [
      "/homes/lbelkov/miniconda3/envs/hubenv/lib/python3.11/site-packages/tqdm/auto.py:21: TqdmWarning: IProgress not found. Please update jupyter and ipywidgets. See https://ipywidgets.readthedocs.io/en/stable/user_install.html\n",
      "  from .autonotebook import tqdm as notebook_tqdm\n"
     ]
    }
   ],
   "source": [
    "import optuna\n",
    "from itertools import combinations\n",
    "\n",
    "def shrinked_gauss(size, mu: Optional[float] = None, sigma: Optional[float] = None):\n",
    "    assert mu is not None and sigma is not None, 'Some params were not passed to function'\n",
    "    return np.abs(np.random.randn(*size))"
   ]
  },
  {
   "cell_type": "code",
   "execution_count": 3,
   "metadata": {},
   "outputs": [],
   "source": [
    "def compute_angle(coords):\n",
    "    results = []\n",
    "    for c in coords:\n",
    "        p = c.T[0]\n",
    "        l2 = np.sqrt(np.power(p - c.T[1:], 2))\n",
    "        indices = np.argsort(l2)\n",
    "        vecs = p - c.T[1:][indices][:-1]\n",
    "        results.append(np.arccos(np.dot(vecs[0], vecs[1]) / np.prod(np.linalg.norm(vecs, axis=1, ord=2))) * 180 / np.pi)\n",
    "    return results"
   ]
  },
  {
   "cell_type": "code",
   "execution_count": 4,
   "metadata": {},
   "outputs": [],
   "source": [
    "def objective(trial):\n",
    "    params = dict(\n",
    "        distribution = trial.suggest_categorical('distribution', [np.random.exponential, shrinked_gauss])\n",
    "    )\n",
    "    if params['distribution'] == np.random.exponential:\n",
    "        params['distribution_params'] = dict(\n",
    "            scale = trial.suggest_float('scale', 0.1, 1.0)\n",
    "        )\n",
    "    elif params['distribution'] == shrinked_gauss:\n",
    "        params['distribution_params'] = dict(\n",
    "            mu = trial.suggest_float('mu', 0.0, 1.0),\n",
    "            sigma = trial.suggest_float('sigma', 0.1, 2.0)\n",
    "        )\n",
    "    \n",
    "    conf = load_json('test_conf.json')\n",
    "    results = []\n",
    "    for _ in range(8):\n",
    "        results.append(generate_distorted(conf['barcode_types'], conf['barcode_contents'], conf['source_img'], opt_params=params))\n",
    "\n",
    "    angles = []\n",
    "    for r in results:\n",
    "        angles.extend(compute_angle(r[1]))\n",
    "\n",
    "    min_angle = np.min(angles)\n",
    "    min_angle = min_angle if min_angle <= 15 else 90.0\n",
    "\n",
    "    variance = np.mean(sum([np.power((r[0] - r[0].min())/(r[0].max() - r[0].min()), 2) for r in results])) - np.mean(sum([(r[0] - r[0].min())/(r[0].max() - r[0].min()) for r in results])**2)\n",
    "\n",
    "    # pairwise_loss = []\n",
    "    # for first, second in combinations(results, 2):\n",
    "    #     f = first[0]\n",
    "    #     f = (f - f.min()) / (f.max() - f.min())\n",
    "    #     s = second[0]\n",
    "    #     s = (s - s.min()) / (s.max() - s.min())\n",
    "    #     pairwise_loss.append(np.power(f - s, 2).mean())\n",
    "\n",
    "    return variance, min_angle"
   ]
  },
  {
   "cell_type": "code",
   "execution_count": 5,
   "metadata": {},
   "outputs": [],
   "source": [
    "import warnings"
   ]
  },
  {
   "cell_type": "code",
   "execution_count": 6,
   "metadata": {},
   "outputs": [
    {
     "name": "stderr",
     "output_type": "stream",
     "text": [
      "[I 2024-04-22 23:24:26,806] A new study created in memory with name: no-name-64bad16d-00e4-4f54-af81-880d3d8ed3c0\n",
      "  0%|          | 0/32 [01:24<?, ?it/s]"
     ]
    },
    {
     "name": "stdout",
     "output_type": "stream",
     "text": [
      "[I 2024-04-22 23:25:51,520] Trial 0 finished with values: [-15.896261709385278, 90.0] and parameters: {'distribution': <built-in method exponential of numpy.random.mtrand.RandomState object at 0x7ff2a850ba40>, 'scale': 0.34430019942991263}. \n"
     ]
    },
    {
     "name": "stderr",
     "output_type": "stream",
     "text": [
      "  3%|▎         | 1/32 [01:26<43:54, 84.98s/it]"
     ]
    },
    {
     "name": "stdout",
     "output_type": "stream",
     "text": [
      "[I 2024-04-22 23:25:52,842] Trial 1 finished with values: [-15.891877917040462, 90.0] and parameters: {'distribution': <function shrinked_gauss at 0x7ff29178d1c0>, 'mu': 0.30998305267756243, 'sigma': 0.6851589456032202}. \n"
     ]
    },
    {
     "name": "stderr",
     "output_type": "stream",
     "text": [
      "  9%|▉         | 3/32 [01:27<09:44, 20.14s/it]"
     ]
    },
    {
     "name": "stdout",
     "output_type": "stream",
     "text": [
      "[I 2024-04-22 23:25:54,471] Trial 4 finished with values: [-16.08009431173196, 90.0] and parameters: {'distribution': <built-in method exponential of numpy.random.mtrand.RandomState object at 0x7ff2a850ba40>, 'scale': 0.6930784997344844}. \n"
     ]
    },
    {
     "name": "stderr",
     "output_type": "stream",
     "text": [
      " 12%|█▎        | 4/32 [01:30<06:13, 13.33s/it]"
     ]
    },
    {
     "name": "stdout",
     "output_type": "stream",
     "text": [
      "[I 2024-04-22 23:25:57,410] Trial 7 finished with values: [-16.096299417602914, 90.0] and parameters: {'distribution': <built-in method exponential of numpy.random.mtrand.RandomState object at 0x7ff2a850ba40>, 'scale': 0.1747273883260227}. \n"
     ]
    },
    {
     "name": "stderr",
     "output_type": "stream",
     "text": [
      " 16%|█▌        | 5/32 [01:31<03:53,  8.66s/it]"
     ]
    },
    {
     "name": "stdout",
     "output_type": "stream",
     "text": [
      "[I 2024-04-22 23:25:57,788] Trial 5 finished with values: [-16.000992896321932, 90.0] and parameters: {'distribution': <built-in method exponential of numpy.random.mtrand.RandomState object at 0x7ff2a850ba40>, 'scale': 0.7253120731526419}. \n",
      "[I 2024-04-22 23:25:57,920] Trial 6 finished with values: [-15.942678780810795, 90.0] and parameters: {'distribution': <function shrinked_gauss at 0x7ff29178d1c0>, 'mu': 0.3853755966191724, 'sigma': 0.5291173621473745}. \n"
     ]
    },
    {
     "name": "stderr",
     "output_type": "stream",
     "text": [
      " 22%|██▏       | 7/32 [01:31<01:39,  3.97s/it]"
     ]
    },
    {
     "name": "stdout",
     "output_type": "stream",
     "text": [
      "[I 2024-04-22 23:25:58,101] Trial 2 finished with values: [-15.754747526165149, 90.0] and parameters: {'distribution': <built-in method exponential of numpy.random.mtrand.RandomState object at 0x7ff2a850ba40>, 'scale': 0.21271358508558547}. \n"
     ]
    },
    {
     "name": "stderr",
     "output_type": "stream",
     "text": [
      " 25%|██▌       | 8/32 [01:32<01:10,  2.96s/it]"
     ]
    },
    {
     "name": "stdout",
     "output_type": "stream",
     "text": [
      "[I 2024-04-22 23:25:58,933] Trial 3 finished with values: [-15.747666094094864, 90.0] and parameters: {'distribution': <built-in method exponential of numpy.random.mtrand.RandomState object at 0x7ff2a850ba40>, 'scale': 0.36627311569172316}. \n"
     ]
    },
    {
     "name": "stderr",
     "output_type": "stream",
     "text": [
      " 28%|██▊       | 9/32 [02:47<09:50, 25.66s/it]"
     ]
    },
    {
     "name": "stdout",
     "output_type": "stream",
     "text": [
      "[I 2024-04-22 23:27:14,597] Trial 9 finished with values: [-16.199184736283765, 90.0] and parameters: {'distribution': <function shrinked_gauss at 0x7ff29178d1c0>, 'mu': 0.6778677112373198, 'sigma': 0.43021514841152864}. \n"
     ]
    },
    {
     "name": "stderr",
     "output_type": "stream",
     "text": [
      " 31%|███▏      | 10/32 [02:51<06:53, 18.78s/it]"
     ]
    },
    {
     "name": "stdout",
     "output_type": "stream",
     "text": [
      "[I 2024-04-22 23:27:17,882] Trial 8 finished with values: [-16.16790247917468, 90.0] and parameters: {'distribution': <built-in method exponential of numpy.random.mtrand.RandomState object at 0x7ff2a850ba40>, 'scale': 0.29947055776766185}. \n"
     ]
    },
    {
     "name": "stderr",
     "output_type": "stream",
     "text": [
      " 34%|███▍      | 11/32 [02:53<04:48, 13.74s/it]"
     ]
    },
    {
     "name": "stdout",
     "output_type": "stream",
     "text": [
      "[I 2024-04-22 23:27:20,151] Trial 10 finished with values: [-15.791452570592506, 90.0] and parameters: {'distribution': <built-in method exponential of numpy.random.mtrand.RandomState object at 0x7ff2a850ba40>, 'scale': 0.11344270067073217}. \n"
     ]
    },
    {
     "name": "stderr",
     "output_type": "stream",
     "text": [
      " 38%|███▊      | 12/32 [02:54<03:15,  9.78s/it]"
     ]
    },
    {
     "name": "stdout",
     "output_type": "stream",
     "text": [
      "[I 2024-04-22 23:27:20,984] Trial 15 finished with values: [-16.0301697043872, 90.0] and parameters: {'distribution': <built-in method exponential of numpy.random.mtrand.RandomState object at 0x7ff2a850ba40>, 'scale': 0.6289781876782073}. \n"
     ]
    },
    {
     "name": "stderr",
     "output_type": "stream",
     "text": [
      " 41%|████      | 13/32 [02:55<02:17,  7.24s/it]"
     ]
    },
    {
     "name": "stdout",
     "output_type": "stream",
     "text": [
      "[I 2024-04-22 23:27:22,393] Trial 13 finished with values: [-15.699682092428842, 90.0] and parameters: {'distribution': <built-in method exponential of numpy.random.mtrand.RandomState object at 0x7ff2a850ba40>, 'scale': 0.5803883776723993}. \n"
     ]
    },
    {
     "name": "stderr",
     "output_type": "stream",
     "text": [
      " 47%|████▋     | 15/32 [02:57<01:05,  3.85s/it]"
     ]
    },
    {
     "name": "stdout",
     "output_type": "stream",
     "text": [
      "[I 2024-04-22 23:27:23,726] Trial 14 finished with values: [-15.80217899775016, 90.0] and parameters: {'distribution': <function shrinked_gauss at 0x7ff29178d1c0>, 'mu': 0.701772351946773, 'sigma': 0.8187653199109148}. \n",
      "[I 2024-04-22 23:27:23,826] Trial 11 finished with values: [-15.41891666018768, 90.0] and parameters: {'distribution': <built-in method exponential of numpy.random.mtrand.RandomState object at 0x7ff2a850ba40>, 'scale': 0.4883770329289192}. \n"
     ]
    },
    {
     "name": "stderr",
     "output_type": "stream",
     "text": [
      " 50%|█████     | 16/32 [02:58<00:48,  3.01s/it]"
     ]
    },
    {
     "name": "stdout",
     "output_type": "stream",
     "text": [
      "[I 2024-04-22 23:27:24,884] Trial 12 finished with values: [-15.918344469292432, 90.0] and parameters: {'distribution': <built-in method exponential of numpy.random.mtrand.RandomState object at 0x7ff2a850ba40>, 'scale': 0.2759208270395539}. \n"
     ]
    },
    {
     "name": "stderr",
     "output_type": "stream",
     "text": [
      " 53%|█████▎    | 17/32 [04:13<06:10, 24.72s/it]"
     ]
    },
    {
     "name": "stdout",
     "output_type": "stream",
     "text": [
      "[I 2024-04-22 23:28:39,670] Trial 16 finished with values: [-15.96259409856607, 90.0] and parameters: {'distribution': <function shrinked_gauss at 0x7ff29178d1c0>, 'mu': 0.23173734848662975, 'sigma': 1.3708024049639786}. \n"
     ]
    },
    {
     "name": "stderr",
     "output_type": "stream",
     "text": [
      " 56%|█████▋    | 18/32 [04:17<04:18, 18.44s/it]"
     ]
    },
    {
     "name": "stdout",
     "output_type": "stream",
     "text": [
      "[I 2024-04-22 23:28:43,873] Trial 17 finished with values: [-15.675413373844817, 90.0] and parameters: {'distribution': <function shrinked_gauss at 0x7ff29178d1c0>, 'mu': 0.9063199031944579, 'sigma': 0.742475096751866}. \n"
     ]
    },
    {
     "name": "stderr",
     "output_type": "stream",
     "text": [
      " 59%|█████▉    | 19/32 [04:17<02:49, 13.04s/it]"
     ]
    },
    {
     "name": "stdout",
     "output_type": "stream",
     "text": [
      "[I 2024-04-22 23:28:44,311] Trial 19 finished with values: [-15.94560152818717, 90.0] and parameters: {'distribution': <function shrinked_gauss at 0x7ff29178d1c0>, 'mu': 0.5824761355070323, 'sigma': 0.7974761625635455}. \n"
     ]
    },
    {
     "name": "stderr",
     "output_type": "stream",
     "text": [
      " 62%|██████▎   | 20/32 [04:18<01:53,  9.47s/it]"
     ]
    },
    {
     "name": "stdout",
     "output_type": "stream",
     "text": [
      "[I 2024-04-22 23:28:45,430] Trial 21 finished with values: [-15.824412083885116, 90.0] and parameters: {'distribution': <built-in method exponential of numpy.random.mtrand.RandomState object at 0x7ff2a850ba40>, 'scale': 0.3862825402014096}. \n"
     ]
    },
    {
     "name": "stderr",
     "output_type": "stream",
     "text": [
      " 66%|██████▌   | 21/32 [04:19<01:14,  6.81s/it]"
     ]
    },
    {
     "name": "stdout",
     "output_type": "stream",
     "text": [
      "[I 2024-04-22 23:28:46,155] Trial 23 finished with values: [-16.136164712005346, 90.0] and parameters: {'distribution': <built-in method exponential of numpy.random.mtrand.RandomState object at 0x7ff2a850ba40>, 'scale': 0.2042508549671351}. \n"
     ]
    },
    {
     "name": "stderr",
     "output_type": "stream",
     "text": [
      " 69%|██████▉   | 22/32 [04:20<00:49,  4.95s/it]"
     ]
    },
    {
     "name": "stdout",
     "output_type": "stream",
     "text": [
      "[I 2024-04-22 23:28:46,693] Trial 20 finished with values: [-15.931183584518775, 90.0] and parameters: {'distribution': <built-in method exponential of numpy.random.mtrand.RandomState object at 0x7ff2a850ba40>, 'scale': 0.287395264484319}. \n"
     ]
    },
    {
     "name": "stderr",
     "output_type": "stream",
     "text": [
      " 72%|███████▏  | 23/32 [04:20<00:33,  3.69s/it]"
     ]
    },
    {
     "name": "stdout",
     "output_type": "stream",
     "text": [
      "[I 2024-04-22 23:28:47,508] Trial 18 finished with values: [-15.647139999216822, 90.0] and parameters: {'distribution': <function shrinked_gauss at 0x7ff29178d1c0>, 'mu': 0.33140750808585706, 'sigma': 0.9082738585772823}. \n"
     ]
    },
    {
     "name": "stderr",
     "output_type": "stream",
     "text": [
      " 75%|███████▌  | 24/32 [04:21<00:21,  2.74s/it]"
     ]
    },
    {
     "name": "stdout",
     "output_type": "stream",
     "text": [
      "[I 2024-04-22 23:28:47,970] Trial 22 finished with values: [-15.613487395659792, 90.0] and parameters: {'distribution': <built-in method exponential of numpy.random.mtrand.RandomState object at 0x7ff2a850ba40>, 'scale': 0.21585487468532477}. \n"
     ]
    },
    {
     "name": "stderr",
     "output_type": "stream",
     "text": [
      " 78%|███████▊  | 25/32 [05:37<02:53, 24.72s/it]"
     ]
    },
    {
     "name": "stdout",
     "output_type": "stream",
     "text": [
      "[I 2024-04-22 23:30:04,069] Trial 24 finished with values: [-16.04621188360602, 90.0] and parameters: {'distribution': <function shrinked_gauss at 0x7ff29178d1c0>, 'mu': 0.7296810701281952, 'sigma': 1.8814903416016362}. \n"
     ]
    },
    {
     "name": "stderr",
     "output_type": "stream",
     "text": [
      " 81%|████████▏ | 26/32 [05:39<01:47, 17.84s/it]"
     ]
    },
    {
     "name": "stdout",
     "output_type": "stream",
     "text": [
      "[I 2024-04-22 23:30:05,759] Trial 25 finished with values: [-15.55235071019693, 90.0] and parameters: {'distribution': <built-in method exponential of numpy.random.mtrand.RandomState object at 0x7ff2a850ba40>, 'scale': 0.9266201739488426}. \n"
     ]
    },
    {
     "name": "stderr",
     "output_type": "stream",
     "text": [
      " 88%|████████▊ | 28/32 [05:41<00:37,  9.33s/it]"
     ]
    },
    {
     "name": "stdout",
     "output_type": "stream",
     "text": [
      "[I 2024-04-22 23:30:08,505] Trial 26 finished with values: [-15.76813194533442, 90.0] and parameters: {'distribution': <built-in method exponential of numpy.random.mtrand.RandomState object at 0x7ff2a850ba40>, 'scale': 0.9194613155323283}. \n",
      "[I 2024-04-22 23:30:08,647] Trial 29 finished with values: [-16.0100899967249, 90.0] and parameters: {'distribution': <function shrinked_gauss at 0x7ff29178d1c0>, 'mu': 0.24826917413583316, 'sigma': 1.1616875498241774}. \n"
     ]
    },
    {
     "name": "stderr",
     "output_type": "stream",
     "text": [
      " 91%|█████████ | 29/32 [05:42<00:19,  6.58s/it]"
     ]
    },
    {
     "name": "stdout",
     "output_type": "stream",
     "text": [
      "[I 2024-04-22 23:30:08,808] Trial 30 finished with values: [-16.370659806128696, 90.0] and parameters: {'distribution': <built-in method exponential of numpy.random.mtrand.RandomState object at 0x7ff2a850ba40>, 'scale': 0.331566634144564}. \n",
      "[I 2024-04-22 23:30:08,994] Trial 28 finished with values: [-16.346831071596394, 90.0] and parameters: {'distribution': <built-in method exponential of numpy.random.mtrand.RandomState object at 0x7ff2a850ba40>, 'scale': 0.11226934559852794}. \n"
     ]
    },
    {
     "name": "stderr",
     "output_type": "stream",
     "text": [
      "100%|██████████| 32/32 [05:42<00:00, 10.70s/it]"
     ]
    },
    {
     "name": "stdout",
     "output_type": "stream",
     "text": [
      "[I 2024-04-22 23:30:09,088] Trial 27 finished with values: [-15.876292713415072, 90.0] and parameters: {'distribution': <function shrinked_gauss at 0x7ff29178d1c0>, 'mu': 0.09804704404114928, 'sigma': 0.70430970196915}. \n",
      "[I 2024-04-22 23:30:09,257] Trial 31 finished with values: [-15.785272788457426, 90.0] and parameters: {'distribution': <function shrinked_gauss at 0x7ff29178d1c0>, 'mu': 0.5198088498695548, 'sigma': 0.14317810934786976}. \n"
     ]
    },
    {
     "name": "stderr",
     "output_type": "stream",
     "text": [
      "\n"
     ]
    }
   ],
   "source": [
    "with warnings.catch_warnings():\n",
    "    warnings.simplefilter(\"ignore\")\n",
    "    study = optuna.create_study(directions=['maximize', 'maximize'])\n",
    "    study.optimize(objective, n_trials=32, n_jobs=8, gc_after_trial=True, show_progress_bar=True)"
   ]
  },
  {
   "cell_type": "code",
   "execution_count": 7,
   "metadata": {},
   "outputs": [
    {
     "ename": "ValueError",
     "evalue": "attempt to get argmax of an empty sequence",
     "output_type": "error",
     "traceback": [
      "\u001b[0;31m---------------------------------------------------------------------------\u001b[0m",
      "\u001b[0;31mValueError\u001b[0m                                Traceback (most recent call last)",
      "Cell \u001b[0;32mIn[7], line 1\u001b[0m\n\u001b[0;32m----> 1\u001b[0m study\u001b[38;5;241m.\u001b[39mtrials[\u001b[43mnp\u001b[49m\u001b[38;5;241;43m.\u001b[39;49m\u001b[43margmax\u001b[49m\u001b[43m(\u001b[49m\u001b[38;5;28;43mlist\u001b[39;49m\u001b[43m(\u001b[49m\u001b[38;5;28;43mmap\u001b[39;49m\u001b[43m(\u001b[49m\u001b[38;5;28;43;01mlambda\u001b[39;49;00m\u001b[43m \u001b[49m\u001b[43mt\u001b[49m\u001b[43m:\u001b[49m\u001b[43m \u001b[49m\u001b[43mt\u001b[49m\u001b[38;5;241;43m.\u001b[39;49m\u001b[43mvalues\u001b[49m\u001b[43m[\u001b[49m\u001b[38;5;241;43m0\u001b[39;49m\u001b[43m]\u001b[49m\u001b[43m,\u001b[49m\u001b[43m \u001b[49m\u001b[38;5;28;43mfilter\u001b[39;49m\u001b[43m(\u001b[49m\u001b[38;5;28;43;01mlambda\u001b[39;49;00m\u001b[43m \u001b[49m\u001b[43mt\u001b[49m\u001b[43m:\u001b[49m\u001b[43m \u001b[49m\u001b[43mt\u001b[49m\u001b[38;5;241;43m.\u001b[39;49m\u001b[43mvalues\u001b[49m\u001b[43m[\u001b[49m\u001b[38;5;241;43m1\u001b[39;49m\u001b[43m]\u001b[49m\u001b[43m \u001b[49m\u001b[38;5;241;43m<\u001b[39;49m\u001b[43m \u001b[49m\u001b[38;5;241;43m90\u001b[39;49m\u001b[43m,\u001b[49m\u001b[43m \u001b[49m\u001b[43mstudy\u001b[49m\u001b[38;5;241;43m.\u001b[39;49m\u001b[43mtrials\u001b[49m\u001b[43m)\u001b[49m\u001b[43m)\u001b[49m\u001b[43m)\u001b[49m\u001b[43m)\u001b[49m]\n",
      "File \u001b[0;32m~/miniconda3/envs/hubenv/lib/python3.11/site-packages/numpy/core/fromnumeric.py:1229\u001b[0m, in \u001b[0;36margmax\u001b[0;34m(a, axis, out, keepdims)\u001b[0m\n\u001b[1;32m   1142\u001b[0m \u001b[38;5;250m\u001b[39m\u001b[38;5;124;03m\"\"\"\u001b[39;00m\n\u001b[1;32m   1143\u001b[0m \u001b[38;5;124;03mReturns the indices of the maximum values along an axis.\u001b[39;00m\n\u001b[1;32m   1144\u001b[0m \n\u001b[0;32m   (...)\u001b[0m\n\u001b[1;32m   1226\u001b[0m \u001b[38;5;124;03m(2, 1, 4)\u001b[39;00m\n\u001b[1;32m   1227\u001b[0m \u001b[38;5;124;03m\"\"\"\u001b[39;00m\n\u001b[1;32m   1228\u001b[0m kwds \u001b[38;5;241m=\u001b[39m {\u001b[38;5;124m'\u001b[39m\u001b[38;5;124mkeepdims\u001b[39m\u001b[38;5;124m'\u001b[39m: keepdims} \u001b[38;5;28;01mif\u001b[39;00m keepdims \u001b[38;5;129;01mis\u001b[39;00m \u001b[38;5;129;01mnot\u001b[39;00m np\u001b[38;5;241m.\u001b[39m_NoValue \u001b[38;5;28;01melse\u001b[39;00m {}\n\u001b[0;32m-> 1229\u001b[0m \u001b[38;5;28;01mreturn\u001b[39;00m \u001b[43m_wrapfunc\u001b[49m\u001b[43m(\u001b[49m\u001b[43ma\u001b[49m\u001b[43m,\u001b[49m\u001b[43m \u001b[49m\u001b[38;5;124;43m'\u001b[39;49m\u001b[38;5;124;43margmax\u001b[39;49m\u001b[38;5;124;43m'\u001b[39;49m\u001b[43m,\u001b[49m\u001b[43m \u001b[49m\u001b[43maxis\u001b[49m\u001b[38;5;241;43m=\u001b[39;49m\u001b[43maxis\u001b[49m\u001b[43m,\u001b[49m\u001b[43m \u001b[49m\u001b[43mout\u001b[49m\u001b[38;5;241;43m=\u001b[39;49m\u001b[43mout\u001b[49m\u001b[43m,\u001b[49m\u001b[43m \u001b[49m\u001b[38;5;241;43m*\u001b[39;49m\u001b[38;5;241;43m*\u001b[39;49m\u001b[43mkwds\u001b[49m\u001b[43m)\u001b[49m\n",
      "File \u001b[0;32m~/miniconda3/envs/hubenv/lib/python3.11/site-packages/numpy/core/fromnumeric.py:56\u001b[0m, in \u001b[0;36m_wrapfunc\u001b[0;34m(obj, method, *args, **kwds)\u001b[0m\n\u001b[1;32m     54\u001b[0m bound \u001b[38;5;241m=\u001b[39m \u001b[38;5;28mgetattr\u001b[39m(obj, method, \u001b[38;5;28;01mNone\u001b[39;00m)\n\u001b[1;32m     55\u001b[0m \u001b[38;5;28;01mif\u001b[39;00m bound \u001b[38;5;129;01mis\u001b[39;00m \u001b[38;5;28;01mNone\u001b[39;00m:\n\u001b[0;32m---> 56\u001b[0m     \u001b[38;5;28;01mreturn\u001b[39;00m \u001b[43m_wrapit\u001b[49m\u001b[43m(\u001b[49m\u001b[43mobj\u001b[49m\u001b[43m,\u001b[49m\u001b[43m \u001b[49m\u001b[43mmethod\u001b[49m\u001b[43m,\u001b[49m\u001b[43m \u001b[49m\u001b[38;5;241;43m*\u001b[39;49m\u001b[43margs\u001b[49m\u001b[43m,\u001b[49m\u001b[43m \u001b[49m\u001b[38;5;241;43m*\u001b[39;49m\u001b[38;5;241;43m*\u001b[39;49m\u001b[43mkwds\u001b[49m\u001b[43m)\u001b[49m\n\u001b[1;32m     58\u001b[0m \u001b[38;5;28;01mtry\u001b[39;00m:\n\u001b[1;32m     59\u001b[0m     \u001b[38;5;28;01mreturn\u001b[39;00m bound(\u001b[38;5;241m*\u001b[39margs, \u001b[38;5;241m*\u001b[39m\u001b[38;5;241m*\u001b[39mkwds)\n",
      "File \u001b[0;32m~/miniconda3/envs/hubenv/lib/python3.11/site-packages/numpy/core/fromnumeric.py:45\u001b[0m, in \u001b[0;36m_wrapit\u001b[0;34m(obj, method, *args, **kwds)\u001b[0m\n\u001b[1;32m     43\u001b[0m \u001b[38;5;28;01mexcept\u001b[39;00m \u001b[38;5;167;01mAttributeError\u001b[39;00m:\n\u001b[1;32m     44\u001b[0m     wrap \u001b[38;5;241m=\u001b[39m \u001b[38;5;28;01mNone\u001b[39;00m\n\u001b[0;32m---> 45\u001b[0m result \u001b[38;5;241m=\u001b[39m \u001b[38;5;28;43mgetattr\u001b[39;49m\u001b[43m(\u001b[49m\u001b[43masarray\u001b[49m\u001b[43m(\u001b[49m\u001b[43mobj\u001b[49m\u001b[43m)\u001b[49m\u001b[43m,\u001b[49m\u001b[43m \u001b[49m\u001b[43mmethod\u001b[49m\u001b[43m)\u001b[49m\u001b[43m(\u001b[49m\u001b[38;5;241;43m*\u001b[39;49m\u001b[43margs\u001b[49m\u001b[43m,\u001b[49m\u001b[43m \u001b[49m\u001b[38;5;241;43m*\u001b[39;49m\u001b[38;5;241;43m*\u001b[39;49m\u001b[43mkwds\u001b[49m\u001b[43m)\u001b[49m\n\u001b[1;32m     46\u001b[0m \u001b[38;5;28;01mif\u001b[39;00m wrap:\n\u001b[1;32m     47\u001b[0m     \u001b[38;5;28;01mif\u001b[39;00m \u001b[38;5;129;01mnot\u001b[39;00m \u001b[38;5;28misinstance\u001b[39m(result, mu\u001b[38;5;241m.\u001b[39mndarray):\n",
      "\u001b[0;31mValueError\u001b[0m: attempt to get argmax of an empty sequence"
     ]
    }
   ],
   "source": [
    "study.trials[np.argmax(list(map(lambda t: t.values[0], filter(lambda t: t.values[1] < 90, study.trials))))]\n"
   ]
  },
  {
   "cell_type": "markdown",
   "metadata": {},
   "source": [
    "### Pairwise simillarity\n",
    "\n",
    " values=[0.16011994043042055, 90.0]\n",
    "\n",
    "{'distribution': <function RandomState.exponential>,\n",
    " 'scale': 0.7673727163364142}"
   ]
  }
 ],
 "metadata": {
  "kernelspec": {
   "display_name": "hubenv",
   "language": "python",
   "name": "python3"
  },
  "language_info": {
   "codemirror_mode": {
    "name": "ipython",
    "version": 3
   },
   "file_extension": ".py",
   "mimetype": "text/x-python",
   "name": "python",
   "nbconvert_exporter": "python",
   "pygments_lexer": "ipython3",
   "version": "3.11.5"
  }
 },
 "nbformat": 4,
 "nbformat_minor": 2
}
