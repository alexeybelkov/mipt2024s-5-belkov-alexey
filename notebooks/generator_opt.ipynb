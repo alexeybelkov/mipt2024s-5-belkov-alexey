{
 "cells": [
  {
   "cell_type": "code",
   "execution_count": 1,
   "metadata": {},
   "outputs": [],
   "source": [
    "### Almost all code in this cell by https://github.com/Vsevolod-pl\n",
    "\n",
    "import cv2\n",
    "import json\n",
    "import argparse\n",
    "import treepoem\n",
    "import numpy as np\n",
    "from matplotlib import pyplot as plt\n",
    "from typing import Optional\n",
    "\n",
    "\n",
    "def load_json(fname, *args, **kwargs):\n",
    "    with open(fname) as f:\n",
    "        return json.load(f, *args, **kwargs)\n",
    "\n",
    "\n",
    "def save_json(jd, fname, *args, indent=4, **kwargs):\n",
    "    with open(fname, 'w') as f:\n",
    "        json.dump(jd, f, *args, indent=indent, **kwargs)\n",
    "\n",
    "\n",
    "def aligned_affine(bar, M, fix_position=True):\n",
    "    xps = [0, 0, 1, 1]\n",
    "    yps = [1, 0, 0, 1]\n",
    "    \n",
    "    height, width, _ = bar.shape\n",
    "    corners = np.array([[x*width, y*height, 1] for x, y in zip(xps, yps)]).T\n",
    "    \n",
    "    if fix_position:\n",
    "        M = M.copy()\n",
    "        M[:,-1] *= 0\n",
    "        M[:,-1] = -np.min(M@corners, axis=-1)\n",
    "\n",
    "    new_sz = np.ceil(np.max(M@corners, axis=-1)).astype(np.int32)\n",
    "    img = cv2.warpAffine(bar, M, new_sz)\n",
    "    return img, M@corners\n",
    "\n",
    "\n",
    "def generate_perspective_distort(img, alpha=0.1, beta=0.01):\n",
    "    xps = [0, 0, 1, 1]\n",
    "    yps = [1, 0, 0, 1]\n",
    "    height, width, _ = img.shape\n",
    "    corners = np.array([[x*width, y*height, 1] for x, y in zip(xps, yps)]).T\n",
    "\n",
    "    M = np.zeros((3,3))\n",
    "    M[:-1,:-1] = np.random.randn(2, 2)*alpha + np.eye(2)*(1.-alpha)\n",
    "    M[-1, :-1] = beta*np.abs(np.random.randn(1,2))\n",
    "    M[:-1,-1] *= 0\n",
    "    M[-1,-1] = 1\n",
    "    coords = (M@corners)[:-1]\n",
    "    M[:-1,-1] = -np.min(coords, axis=-1)\n",
    "    return M\n",
    "\n",
    "def generate_aligned_perspective_distort(img, distribution, **distribution_params):\n",
    "    xps = [0, 0, 1, 1]\n",
    "    yps = [1, 0, 0, 1]\n",
    "    height, width, _ = img.shape\n",
    "    corners = np.array([[x*width, y*height] for x, y in zip(xps, yps)])\n",
    "    corners_old = corners.copy()\n",
    "\n",
    "    dx, dy = distribution(**distribution_params, size=corners.shape).T # np.random.exponential(scale=width*scale, size=corners.shape).T\n",
    "\n",
    "    corners[0,0] -= dx[0]\n",
    "    corners[0,1] += dy[0]\n",
    "\n",
    "    corners[1,0] -= dx[1]\n",
    "    corners[1,1] -= dy[1]\n",
    "\n",
    "    corners[2,0] += dx[2]\n",
    "    corners[2,1] -= dy[2]\n",
    "\n",
    "    corners[3,0] += dx[3]\n",
    "    corners[3,1] += dy[3]\n",
    "\n",
    "    theta = np.math.pi*np.random.random()*2\n",
    "    c, s = np.cos(theta), np.sin(theta)\n",
    "    R = np.array(((c, -s), (s, c)))\n",
    "\n",
    "    corners = corners@R\n",
    "\n",
    "    M = cv2.getPerspectiveTransform(corners_old.astype(np.float32), corners.astype(np.float32))\n",
    "\n",
    "    corners = np.array([[x*width, y*height, 1] for x, y in zip(xps, yps)]).T\n",
    "    M[:-1,-1] *= 0\n",
    "    M[-1,-1] = 1\n",
    "    coords = (M@corners)[:-1]\n",
    "    M[:-1,-1] = -np.min(coords, axis=-1)\n",
    "    coords = M@corners\n",
    "    coords = coords[:-1]/coords[-1]\n",
    "\n",
    "    new_sz = np.ceil(np.max(coords, axis=-1)).astype(np.int32)\n",
    "\n",
    "    return M\n",
    "\n",
    "\n",
    "def aligned_perspective(img, M):\n",
    "    xps = [0, 0, 1, 1]\n",
    "    yps = [1, 0, 0, 1]\n",
    "    height, width, _ = img.shape\n",
    "    corners = np.array([[x*width, y*height, 1] for x, y in zip(xps, yps)]).T\n",
    "    coords = M@corners\n",
    "    coords = coords[:-1]/coords[-1]\n",
    "    \n",
    "    new_sz = np.ceil(np.max(coords, axis=-1)).astype(np.int32)\n",
    "    \n",
    "    img = cv2.warpPerspective(img, M, new_sz)\n",
    "    return img, coords\n",
    "\n",
    "\n",
    "def coords_to_regions(coords, dimensions):\n",
    "    res = []\n",
    "    for i in range(len(coords)):\n",
    "        ptsx, ptsy = coords[i]\n",
    "        \n",
    "        res.append({\\\n",
    "        'shape_attributes': {\n",
    "            'name': 'polygon',\n",
    "            'all_points_x': list(ptsx),\n",
    "            'all_points_y': list(ptsy)\n",
    "        },\n",
    "        'region_attributes': {'barcode': dimensions[i]}})\n",
    "    return res\n",
    "\n",
    "\n",
    "def export(img, name, coords, dimensions):\n",
    "    #np.clip(img, 0, 1)\n",
    "    plt.imsave(f'{name}.jpg', img)\n",
    "    res = {f'{name}.jpg813086': {'filename': f'../code/{name}.jpg',\n",
    "    'size': 813086,\n",
    "    'regions': coords_to_regions(coords, dimensions),\n",
    "    'file_attributes': {}}}\n",
    "    save_json(res, f'{name}.json')\n",
    "\n",
    "\n",
    "def generate_distorted(barcode_types, content_barcodes, source_img=None, distortions=None, opt_params: Optional[dict] = None):\n",
    "    assert isinstance(opt_params, dict), 'Empty optmization space'\n",
    "    barimgs = [treepoem.generate_barcode(typ, content) for typ, content in zip(barcode_types, content_barcodes)]\n",
    "    if distortions is None:\n",
    "        distribution = opt_params['distribution']\n",
    "        distribution_params = opt_params['distribution_params']\n",
    "        distortions = [generate_aligned_perspective_distort(np.array(img), distribution, **distribution_params) for img in barimgs]\n",
    "    imgs, coords = zip(*[aligned_perspective(np.array(img), dis) for img, dis in zip(barimgs, distortions)])\n",
    "    masks, _ = zip(*[aligned_perspective(np.ones_like(img), dis) for img, dis in zip(barimgs, distortions)])\n",
    "    \n",
    "    if source_img is None:\n",
    "        width, height, _ = np.max([img.shape for img in imgs], axis=0)*len(imgs)//3\n",
    "        combined = np.full((width, height, 3), fill_value=np.mean([np.mean(b) for b in barimags]), dtype=imgs[0].dtype)\n",
    "    else:\n",
    "        combined = plt.imread(source_img)[:,:,:3]\n",
    "        width, height, _ = combined.shape\n",
    "\n",
    "    for i in range(len(imgs)):\n",
    "        w, h, _ = imgs[i].shape\n",
    "        if width - w < 0 or height -h < 0:\n",
    "            continue\n",
    "        dw = np.random.randint(0, width - w)\n",
    "        dh = np.random.randint(0, height - h)\n",
    "        coords[i][0] += dh\n",
    "        coords[i][1] += dw\n",
    "        expanded_img = np.zeros_like(combined)\n",
    "        expanded_img[dw:w+dw, dh:h+dh] = imgs[i]\n",
    "        expanded_mask = np.zeros_like(combined)\n",
    "        expanded_mask[dw:w+dw, dh:h+dh] = masks[i]\n",
    "        combined = combined*(1-expanded_mask) + expanded_img\n",
    "    return combined, coords, barimgs\n"
   ]
  },
  {
   "cell_type": "code",
   "execution_count": 2,
   "metadata": {},
   "outputs": [
    {
     "name": "stderr",
     "output_type": "stream",
     "text": [
      "/homes/lbelkov/miniconda3/envs/hubenv/lib/python3.11/site-packages/tqdm/auto.py:21: TqdmWarning: IProgress not found. Please update jupyter and ipywidgets. See https://ipywidgets.readthedocs.io/en/stable/user_install.html\n",
      "  from .autonotebook import tqdm as notebook_tqdm\n"
     ]
    }
   ],
   "source": [
    "import optuna\n",
    "from itertools import combinations\n",
    "\n",
    "def shrinked_gauss(size, mu: Optional[float] = None, sigma: Optional[float] = None):\n",
    "    assert mu is not None and sigma is not None, 'Some params were not passed to function'\n",
    "    return np.abs(np.random.randn(*size))"
   ]
  },
  {
   "cell_type": "code",
   "execution_count": 3,
   "metadata": {},
   "outputs": [],
   "source": [
    "def compute_angle(coords):\n",
    "    results = []\n",
    "    for c in coords:\n",
    "        p = c.T[0]\n",
    "        l2 = np.sqrt(np.power(p - c.T[1:], 2))\n",
    "        indices = np.argsort(l2)\n",
    "        vecs = p - c.T[1:][indices][:-1]\n",
    "        results.append(np.arccos(np.dot(vecs[0], vecs[1]) / np.prod(np.linalg.norm(vecs, axis=1, ord=2))) * 180 / np.pi)\n",
    "    return results"
   ]
  },
  {
   "cell_type": "code",
   "execution_count": 4,
   "metadata": {},
   "outputs": [],
   "source": [
    "def objective(trial):\n",
    "    params = dict(\n",
    "        distribution = trial.suggest_categorical('distribution', [np.random.exponential, shrinked_gauss])\n",
    "    )\n",
    "    if params['distribution'] == np.random.exponential:\n",
    "        params['distribution_params'] = dict(\n",
    "            scale = trial.suggest_float('scale', 0.1, 1.0)\n",
    "        )\n",
    "    elif params['distribution'] == shrinked_gauss:\n",
    "        params['distribution_params'] = dict(\n",
    "            mu = trial.suggest_float('mu', 0.0, 1.0),\n",
    "            sigma = trial.suggest_float('sigma', 0.1, 2.0)\n",
    "        )\n",
    "    \n",
    "    conf = load_json('test_conf.json')\n",
    "    results = []\n",
    "    for _ in range(8):\n",
    "        results.append(generate_distorted(conf['barcode_types'], conf['barcode_contents'], conf['source_img'], opt_params=params))\n",
    "\n",
    "    angles = []\n",
    "    for r in results:\n",
    "        angles.extend(compute_angle(r[1]))\n",
    "\n",
    "    min_angle = np.min(angles)\n",
    "    min_angle = min_angle if min_angle <= 15 else 90.0\n",
    "\n",
    "    # variance = np.mean(sum([np.power((r[0] - r[0].min())/(r[0].max() - r[0].min()), 2) for r in results])) - np.mean(sum([(r[0] - r[0].min())/(r[0].max() - r[0].min()) for r in results])**2)\n",
    "\n",
    "    pairwise_loss = []\n",
    "    for first, second in combinations(results, 2):\n",
    "        f = first[0]\n",
    "        f = (f - f.min()) / (f.max() - f.min())\n",
    "        s = second[0]\n",
    "        s = (s - s.min()) / (s.max() - s.min())\n",
    "        pairwise_loss.append(np.power(f - s, 2).mean())\n",
    "\n",
    "    return np.mean(pairwise_loss), min_angle"
   ]
  },
  {
   "cell_type": "code",
   "execution_count": 5,
   "metadata": {},
   "outputs": [],
   "source": [
    "import warnings"
   ]
  },
  {
   "cell_type": "code",
   "execution_count": 6,
   "metadata": {},
   "outputs": [
    {
     "name": "stderr",
     "output_type": "stream",
     "text": [
      "[I 2024-05-15 10:26:54,866] A new study created in memory with name: no-name-353a7715-ef22-469c-a803-07b4e889926f\n",
      "  1%|          | 1/128 [00:12<26:43, 12.62s/it]"
     ]
    },
    {
     "name": "stdout",
     "output_type": "stream",
     "text": [
      "[I 2024-05-15 10:27:07,450] Trial 4 finished with values: [0.133389683870825, 90.0] and parameters: {'distribution': <function shrinked_gauss at 0x7f96f4319080>, 'mu': 0.8516561761455654, 'sigma': 1.9173251073654651}. \n"
     ]
    },
    {
     "name": "stderr",
     "output_type": "stream",
     "text": [
      "  2%|▏         | 2/128 [00:12<11:18,  5.38s/it]"
     ]
    },
    {
     "name": "stdout",
     "output_type": "stream",
     "text": [
      "[I 2024-05-15 10:27:07,759] Trial 5 finished with values: [0.14753701208479036, 90.0] and parameters: {'distribution': <function shrinked_gauss at 0x7f96f4319080>, 'mu': 0.5597805691695986, 'sigma': 1.6721363646123544}. \n",
      "[I 2024-05-15 10:27:07,827] Trial 3 finished with values: [0.14970587500940827, 90.0] and parameters: {'distribution': <built-in method exponential of numpy.random.mtrand.RandomState object at 0x7f97440abb40>, 'scale': 0.9387601513222117}. \n"
     ]
    },
    {
     "name": "stderr",
     "output_type": "stream",
     "text": [
      "  4%|▍         | 5/128 [00:13<04:17,  2.09s/it]"
     ]
    },
    {
     "name": "stdout",
     "output_type": "stream",
     "text": [
      "[I 2024-05-15 10:27:08,026] Trial 6 finished with values: [0.14785188150696008, 90.0] and parameters: {'distribution': <built-in method exponential of numpy.random.mtrand.RandomState object at 0x7f97440abb40>, 'scale': 0.45784462184319175}. \n",
      "[I 2024-05-15 10:27:08,112] Trial 2 finished with values: [0.15175940136348656, 90.0] and parameters: {'distribution': <built-in method exponential of numpy.random.mtrand.RandomState object at 0x7f97440abb40>, 'scale': 0.6575082180569478}. \n",
      "[I 2024-05-15 10:27:08,215] Trial 1 finished with values: [0.15502904769405942, 90.0] and parameters: {'distribution': <function shrinked_gauss at 0x7f96f4319080>, 'mu': 0.2613655026938483, 'sigma': 1.2107168165890883}. \n"
     ]
    },
    {
     "name": "stderr",
     "output_type": "stream",
     "text": [
      "  5%|▌         | 7/128 [00:13<01:48,  1.12it/s]"
     ]
    },
    {
     "name": "stdout",
     "output_type": "stream",
     "text": [
      "[I 2024-05-15 10:27:08,346] Trial 0 finished with values: [0.14766375474990287, 90.0] and parameters: {'distribution': <function shrinked_gauss at 0x7f96f4319080>, 'mu': 0.7664830248222391, 'sigma': 0.5402205593946598}. \n"
     ]
    },
    {
     "name": "stderr",
     "output_type": "stream",
     "text": [
      "  6%|▋         | 8/128 [00:13<01:27,  1.38it/s]"
     ]
    },
    {
     "name": "stdout",
     "output_type": "stream",
     "text": [
      "[I 2024-05-15 10:27:08,616] Trial 7 finished with values: [0.14583744884954708, 90.0] and parameters: {'distribution': <built-in method exponential of numpy.random.mtrand.RandomState object at 0x7f97440abb40>, 'scale': 0.3774958586848035}. \n"
     ]
    },
    {
     "name": "stderr",
     "output_type": "stream",
     "text": [
      "  7%|▋         | 9/128 [00:25<07:34,  3.82s/it]"
     ]
    },
    {
     "name": "stdout",
     "output_type": "stream",
     "text": [
      "[I 2024-05-15 10:27:20,600] Trial 8 finished with values: [0.14545713447361514, 90.0] and parameters: {'distribution': <function shrinked_gauss at 0x7f96f4319080>, 'mu': 0.43145776373080613, 'sigma': 1.909548327348968}. \n"
     ]
    },
    {
     "name": "stderr",
     "output_type": "stream",
     "text": [
      "  9%|▊         | 11/128 [00:26<04:02,  2.07s/it]"
     ]
    },
    {
     "name": "stdout",
     "output_type": "stream",
     "text": [
      "[I 2024-05-15 10:27:21,033] Trial 11 finished with values: [0.14771810268969607, 90.0] and parameters: {'distribution': <function shrinked_gauss at 0x7f96f4319080>, 'mu': 0.4112596327146647, 'sigma': 1.1179979914945881}. \n",
      "[I 2024-05-15 10:27:21,142] Trial 10 finished with values: [0.1537190563115224, 90.0] and parameters: {'distribution': <function shrinked_gauss at 0x7f96f4319080>, 'mu': 0.4054297811651434, 'sigma': 1.921033869862342}. \n",
      "[I 2024-05-15 10:27:21,193] Trial 9 finished with values: [0.14757873615077838, 90.0] and parameters: {'distribution': <built-in method exponential of numpy.random.mtrand.RandomState object at 0x7f97440abb40>, 'scale': 0.5125981845010429}. \n"
     ]
    },
    {
     "name": "stderr",
     "output_type": "stream",
     "text": [
      " 11%|█         | 14/128 [00:26<01:21,  1.39it/s]"
     ]
    },
    {
     "name": "stdout",
     "output_type": "stream",
     "text": [
      "[I 2024-05-15 10:27:21,608] Trial 14 finished with values: [0.14764413528374312, 90.0] and parameters: {'distribution': <function shrinked_gauss at 0x7f96f4319080>, 'mu': 0.44387771345850524, 'sigma': 1.5725886757167844}. \n",
      "[I 2024-05-15 10:27:21,611] Trial 13 finished with values: [0.14185784552364886, 90.0] and parameters: {'distribution': <function shrinked_gauss at 0x7f96f4319080>, 'mu': 0.1687924979291151, 'sigma': 1.0551117278297768}. \n",
      "[I 2024-05-15 10:27:21,739] Trial 12 finished with values: [0.15283240748369065, 90.0] and parameters: {'distribution': <function shrinked_gauss at 0x7f96f4319080>, 'mu': 0.17676698277215008, 'sigma': 1.2389729562041596}. \n"
     ]
    },
    {
     "name": "stderr",
     "output_type": "stream",
     "text": [
      " 12%|█▎        | 16/128 [00:27<01:02,  1.79it/s]"
     ]
    },
    {
     "name": "stdout",
     "output_type": "stream",
     "text": [
      "[I 2024-05-15 10:27:22,085] Trial 15 finished with values: [0.1493090400453936, 90.0] and parameters: {'distribution': <built-in method exponential of numpy.random.mtrand.RandomState object at 0x7f97440abb40>, 'scale': 0.3943519269298178}. \n"
     ]
    },
    {
     "name": "stderr",
     "output_type": "stream",
     "text": [
      " 13%|█▎        | 17/128 [00:39<05:05,  2.75s/it]"
     ]
    },
    {
     "name": "stdout",
     "output_type": "stream",
     "text": [
      "[I 2024-05-15 10:27:34,486] Trial 16 finished with values: [0.15341145282822644, 90.0] and parameters: {'distribution': <built-in method exponential of numpy.random.mtrand.RandomState object at 0x7f97440abb40>, 'scale': 0.976971220501082}. \n"
     ]
    },
    {
     "name": "stderr",
     "output_type": "stream",
     "text": [
      " 15%|█▍        | 19/128 [00:40<03:11,  1.76s/it]"
     ]
    },
    {
     "name": "stdout",
     "output_type": "stream",
     "text": [
      "[I 2024-05-15 10:27:34,811] Trial 17 finished with values: [0.15237126170947682, 90.0] and parameters: {'distribution': <function shrinked_gauss at 0x7f96f4319080>, 'mu': 0.715254078203361, 'sigma': 1.5720984760664924}. \n",
      "[I 2024-05-15 10:27:34,946] Trial 19 finished with values: [0.1468216631131392, 90.0] and parameters: {'distribution': <function shrinked_gauss at 0x7f96f4319080>, 'mu': 0.011096252987164767, 'sigma': 0.390786713396454}. \n"
     ]
    },
    {
     "name": "stderr",
     "output_type": "stream",
     "text": [
      " 17%|█▋        | 22/128 [00:40<01:30,  1.18it/s]"
     ]
    },
    {
     "name": "stdout",
     "output_type": "stream",
     "text": [
      "[I 2024-05-15 10:27:35,265] Trial 21 finished with values: [0.15385359505857535, 90.0] and parameters: {'distribution': <function shrinked_gauss at 0x7f96f4319080>, 'mu': 0.24595743014886506, 'sigma': 1.531263821226575}. \n",
      "[I 2024-05-15 10:27:35,322] Trial 22 finished with values: [0.15607272461090463, 90.0] and parameters: {'distribution': <built-in method exponential of numpy.random.mtrand.RandomState object at 0x7f97440abb40>, 'scale': 0.8115487353603095}. \n",
      "[I 2024-05-15 10:27:35,401] Trial 23 finished with values: [0.1437630303286892, 90.0] and parameters: {'distribution': <function shrinked_gauss at 0x7f96f4319080>, 'mu': 0.8055537828007234, 'sigma': 1.9880930311860374}. \n"
     ]
    },
    {
     "name": "stderr",
     "output_type": "stream",
     "text": [
      " 17%|█▋        | 22/128 [00:40<01:30,  1.18it/s]"
     ]
    },
    {
     "name": "stdout",
     "output_type": "stream",
     "text": [
      "[I 2024-05-15 10:27:35,483] Trial 18 finished with values: [0.15341182397287165, 90.0] and parameters: {'distribution': <built-in method exponential of numpy.random.mtrand.RandomState object at 0x7f97440abb40>, 'scale': 0.5621947430091869}. \n"
     ]
    },
    {
     "name": "stderr",
     "output_type": "stream",
     "text": [
      " 19%|█▉        | 24/128 [00:40<01:01,  1.69it/s]"
     ]
    },
    {
     "name": "stdout",
     "output_type": "stream",
     "text": [
      "[I 2024-05-15 10:27:35,721] Trial 20 finished with values: [0.14237109732927303, 90.0] and parameters: {'distribution': <built-in method exponential of numpy.random.mtrand.RandomState object at 0x7f97440abb40>, 'scale': 0.7891170173252188}. \n"
     ]
    },
    {
     "name": "stderr",
     "output_type": "stream",
     "text": [
      " 20%|█▉        | 25/128 [00:52<04:57,  2.89s/it]"
     ]
    },
    {
     "name": "stdout",
     "output_type": "stream",
     "text": [
      "[I 2024-05-15 10:27:47,263] Trial 24 finished with values: [0.1443668581528472, 90.0] and parameters: {'distribution': <function shrinked_gauss at 0x7f96f4319080>, 'mu': 0.9444269325419268, 'sigma': 1.5507248254487782}. \n"
     ]
    },
    {
     "name": "stderr",
     "output_type": "stream",
     "text": [
      " 20%|██        | 26/128 [00:52<03:55,  2.30s/it]"
     ]
    },
    {
     "name": "stdout",
     "output_type": "stream",
     "text": [
      "[I 2024-05-15 10:27:47,611] Trial 25 finished with values: [0.16073455508183668, 90.0] and parameters: {'distribution': <function shrinked_gauss at 0x7f96f4319080>, 'mu': 0.40759024219435214, 'sigma': 0.465357891351449}. \n",
      "[I 2024-05-15 10:27:47,701] Trial 26 finished with values: [0.13988493731170754, 90.0] and parameters: {'distribution': <built-in method exponential of numpy.random.mtrand.RandomState object at 0x7f97440abb40>, 'scale': 0.15701960172521112}. \n"
     ]
    },
    {
     "name": "stderr",
     "output_type": "stream",
     "text": [
      " 22%|██▏       | 28/128 [00:53<02:29,  1.50s/it]"
     ]
    },
    {
     "name": "stdout",
     "output_type": "stream",
     "text": [
      "[I 2024-05-15 10:27:48,140] Trial 27 finished with values: [0.14476481850056655, 90.0] and parameters: {'distribution': <function shrinked_gauss at 0x7f96f4319080>, 'mu': 0.6835422206441981, 'sigma': 1.1504180850564947}. \n",
      "[I 2024-05-15 10:27:48,214] Trial 29 finished with values: [0.15213154914471236, 90.0] and parameters: {'distribution': <function shrinked_gauss at 0x7f96f4319080>, 'mu': 0.7493857053270565, 'sigma': 1.5078554342791635}. \n"
     ]
    },
    {
     "name": "stderr",
     "output_type": "stream",
     "text": [
      " 23%|██▎       | 30/128 [00:53<01:37,  1.01it/s]"
     ]
    },
    {
     "name": "stdout",
     "output_type": "stream",
     "text": [
      "[I 2024-05-15 10:27:48,359] Trial 30 finished with values: [0.14903047720377186, 90.0] and parameters: {'distribution': <built-in method exponential of numpy.random.mtrand.RandomState object at 0x7f97440abb40>, 'scale': 0.10448514675163306}. \n"
     ]
    },
    {
     "name": "stderr",
     "output_type": "stream",
     "text": [
      " 24%|██▍       | 31/128 [00:53<01:21,  1.19it/s]"
     ]
    },
    {
     "name": "stdout",
     "output_type": "stream",
     "text": [
      "[I 2024-05-15 10:27:48,608] Trial 28 finished with values: [0.1369715849660489, 90.0] and parameters: {'distribution': <built-in method exponential of numpy.random.mtrand.RandomState object at 0x7f97440abb40>, 'scale': 0.11360384027822379}. \n"
     ]
    },
    {
     "name": "stderr",
     "output_type": "stream",
     "text": [
      " 25%|██▌       | 32/128 [00:54<01:07,  1.42it/s]"
     ]
    },
    {
     "name": "stdout",
     "output_type": "stream",
     "text": [
      "[I 2024-05-15 10:27:48,834] Trial 31 finished with values: [0.1451165563979768, 90.0] and parameters: {'distribution': <function shrinked_gauss at 0x7f96f4319080>, 'mu': 0.19197482164041935, 'sigma': 0.27971281142847026}. \n"
     ]
    },
    {
     "name": "stderr",
     "output_type": "stream",
     "text": [
      " 27%|██▋       | 34/128 [01:05<03:53,  2.48s/it]"
     ]
    },
    {
     "name": "stdout",
     "output_type": "stream",
     "text": [
      "[I 2024-05-15 10:28:00,167] Trial 32 finished with values: [0.14023524647622304, 90.0] and parameters: {'distribution': <function shrinked_gauss at 0x7f96f4319080>, 'mu': 0.7764865565412842, 'sigma': 0.7749340267522306}. \n",
      "[I 2024-05-15 10:28:00,311] Trial 34 finished with values: [0.15560092834156178, 90.0] and parameters: {'distribution': <built-in method exponential of numpy.random.mtrand.RandomState object at 0x7f97440abb40>, 'scale': 0.15325568844174778}. \n"
     ]
    },
    {
     "name": "stderr",
     "output_type": "stream",
     "text": [
      " 27%|██▋       | 35/128 [01:05<02:52,  1.85s/it]"
     ]
    },
    {
     "name": "stdout",
     "output_type": "stream",
     "text": [
      "[I 2024-05-15 10:28:00,469] Trial 33 finished with values: [0.15271955585356872, 90.0] and parameters: {'distribution': <built-in method exponential of numpy.random.mtrand.RandomState object at 0x7f97440abb40>, 'scale': 0.3487225465879041}. \n"
     ]
    },
    {
     "name": "stderr",
     "output_type": "stream",
     "text": [
      " 29%|██▉       | 37/128 [01:06<02:13,  1.47s/it]"
     ]
    },
    {
     "name": "stdout",
     "output_type": "stream",
     "text": [
      "[I 2024-05-15 10:28:00,938] Trial 35 finished with values: [0.14787054457458368, 90.0] and parameters: {'distribution': <built-in method exponential of numpy.random.mtrand.RandomState object at 0x7f97440abb40>, 'scale': 0.6726608458907832}. \n",
      "[I 2024-05-15 10:28:01,001] Trial 36 finished with values: [0.15295808164823663, 90.0] and parameters: {'distribution': <built-in method exponential of numpy.random.mtrand.RandomState object at 0x7f97440abb40>, 'scale': 0.5288872473439032}. \n",
      "[I 2024-05-15 10:28:01,115] Trial 38 finished with values: [0.15250310833719838, 90.0] and parameters: {'distribution': <function shrinked_gauss at 0x7f96f4319080>, 'mu': 0.894553002886574, 'sigma': 0.46726218621526927}. \n"
     ]
    },
    {
     "name": "stderr",
     "output_type": "stream",
     "text": [
      " 31%|███▏      | 40/128 [01:06<00:54,  1.63it/s]"
     ]
    },
    {
     "name": "stdout",
     "output_type": "stream",
     "text": [
      "[I 2024-05-15 10:28:01,689] Trial 37 finished with values: [0.14395827810427003, 90.0] and parameters: {'distribution': <function shrinked_gauss at 0x7f96f4319080>, 'mu': 0.4978128454335762, 'sigma': 0.14803926981089804}. \n",
      "[I 2024-05-15 10:28:01,812] Trial 39 finished with values: [0.15165017685759855, 90.0] and parameters: {'distribution': <built-in method exponential of numpy.random.mtrand.RandomState object at 0x7f97440abb40>, 'scale': 0.4758581851577707}. \n"
     ]
    },
    {
     "name": "stderr",
     "output_type": "stream",
     "text": [
      " 33%|███▎      | 42/128 [01:18<03:38,  2.54s/it]"
     ]
    },
    {
     "name": "stdout",
     "output_type": "stream",
     "text": [
      "[I 2024-05-15 10:28:13,075] Trial 42 finished with values: [0.15374123358384748, 90.0] and parameters: {'distribution': <function shrinked_gauss at 0x7f96f4319080>, 'mu': 0.5732832561438795, 'sigma': 0.23598718097429489}. \n",
      "[I 2024-05-15 10:28:13,187] Trial 41 finished with values: [0.1471377176793012, 90.0] and parameters: {'distribution': <built-in method exponential of numpy.random.mtrand.RandomState object at 0x7f97440abb40>, 'scale': 0.5743662614638876}. \n"
     ]
    },
    {
     "name": "stderr",
     "output_type": "stream",
     "text": [
      " 34%|███▎      | 43/128 [01:18<02:40,  1.89s/it]"
     ]
    },
    {
     "name": "stdout",
     "output_type": "stream",
     "text": [
      "[I 2024-05-15 10:28:13,425] Trial 40 finished with values: [0.14700259432295068, 90.0] and parameters: {'distribution': <function shrinked_gauss at 0x7f96f4319080>, 'mu': 0.25252138006004765, 'sigma': 1.6072490266920254}. \n"
     ]
    },
    {
     "name": "stderr",
     "output_type": "stream",
     "text": [
      " 34%|███▍      | 44/128 [01:18<02:00,  1.43s/it]"
     ]
    },
    {
     "name": "stdout",
     "output_type": "stream",
     "text": [
      "[I 2024-05-15 10:28:13,724] Trial 43 finished with values: [0.15136840085162606, 90.0] and parameters: {'distribution': <function shrinked_gauss at 0x7f96f4319080>, 'mu': 0.6775758072568261, 'sigma': 0.15868218386093702}. \n"
     ]
    },
    {
     "name": "stderr",
     "output_type": "stream",
     "text": [
      " 35%|███▌      | 45/128 [01:19<01:30,  1.09s/it]"
     ]
    },
    {
     "name": "stdout",
     "output_type": "stream",
     "text": [
      "[I 2024-05-15 10:28:14,009] Trial 45 finished with values: [0.14668259290789668, 90.0] and parameters: {'distribution': <built-in method exponential of numpy.random.mtrand.RandomState object at 0x7f97440abb40>, 'scale': 0.3837422412875472}. \n"
     ]
    },
    {
     "name": "stderr",
     "output_type": "stream",
     "text": [
      " 36%|███▌      | 46/128 [01:19<01:08,  1.19it/s]"
     ]
    },
    {
     "name": "stdout",
     "output_type": "stream",
     "text": [
      "[I 2024-05-15 10:28:14,229] Trial 44 finished with values: [0.14566081378448256, 90.0] and parameters: {'distribution': <function shrinked_gauss at 0x7f96f4319080>, 'mu': 0.5824404155051289, 'sigma': 1.8837999588374295}. \n"
     ]
    },
    {
     "name": "stderr",
     "output_type": "stream",
     "text": [
      " 37%|███▋      | 47/128 [01:19<01:00,  1.34it/s]"
     ]
    },
    {
     "name": "stdout",
     "output_type": "stream",
     "text": [
      "[I 2024-05-15 10:28:14,738] Trial 46 finished with values: [0.142514615882119, 90.0] and parameters: {'distribution': <function shrinked_gauss at 0x7f96f4319080>, 'mu': 0.1158186948261829, 'sigma': 1.580337932825237}. \n"
     ]
    },
    {
     "name": "stderr",
     "output_type": "stream",
     "text": [
      " 38%|███▊      | 48/128 [01:20<00:48,  1.63it/s]"
     ]
    },
    {
     "name": "stdout",
     "output_type": "stream",
     "text": [
      "[I 2024-05-15 10:28:15,057] Trial 47 finished with values: [0.14858568177507023, 90.0] and parameters: {'distribution': <built-in method exponential of numpy.random.mtrand.RandomState object at 0x7f97440abb40>, 'scale': 0.6920605146511879}. \n"
     ]
    },
    {
     "name": "stderr",
     "output_type": "stream",
     "text": [
      " 38%|███▊      | 49/128 [01:31<05:03,  3.85s/it]"
     ]
    },
    {
     "name": "stdout",
     "output_type": "stream",
     "text": [
      "[I 2024-05-15 10:28:26,487] Trial 48 finished with values: [0.1461411174756758, 90.0] and parameters: {'distribution': <function shrinked_gauss at 0x7f96f4319080>, 'mu': 0.9961374893131876, 'sigma': 0.5512049184755881}. \n"
     ]
    },
    {
     "name": "stderr",
     "output_type": "stream",
     "text": [
      " 39%|███▉      | 50/128 [01:31<03:36,  2.78s/it]"
     ]
    },
    {
     "name": "stdout",
     "output_type": "stream",
     "text": [
      "[I 2024-05-15 10:28:26,776] Trial 49 finished with values: [0.1406574734559764, 90.0] and parameters: {'distribution': <built-in method exponential of numpy.random.mtrand.RandomState object at 0x7f97440abb40>, 'scale': 0.27567874322065655}. \n"
     ]
    },
    {
     "name": "stderr",
     "output_type": "stream",
     "text": [
      " 40%|███▉      | 51/128 [01:32<02:37,  2.04s/it]"
     ]
    },
    {
     "name": "stdout",
     "output_type": "stream",
     "text": [
      "[I 2024-05-15 10:28:27,110] Trial 50 finished with values: [0.1497295538791043, 90.0] and parameters: {'distribution': <built-in method exponential of numpy.random.mtrand.RandomState object at 0x7f97440abb40>, 'scale': 0.8495871932893823}. \n"
     ]
    },
    {
     "name": "stderr",
     "output_type": "stream",
     "text": [
      " 41%|████      | 52/128 [01:32<01:54,  1.51s/it]"
     ]
    },
    {
     "name": "stdout",
     "output_type": "stream",
     "text": [
      "[I 2024-05-15 10:28:27,390] Trial 51 finished with values: [0.1417171285247941, 90.0] and parameters: {'distribution': <function shrinked_gauss at 0x7f96f4319080>, 'mu': 0.03305106898047616, 'sigma': 1.9659945842911952}. \n"
     ]
    },
    {
     "name": "stderr",
     "output_type": "stream",
     "text": [
      " 41%|████▏     | 53/128 [01:32<01:25,  1.14s/it]"
     ]
    },
    {
     "name": "stdout",
     "output_type": "stream",
     "text": [
      "[I 2024-05-15 10:28:27,628] Trial 52 finished with values: [0.1545927513341938, 90.0] and parameters: {'distribution': <function shrinked_gauss at 0x7f96f4319080>, 'mu': 0.8408288109875929, 'sigma': 1.3505772257009785}. \n"
     ]
    },
    {
     "name": "stderr",
     "output_type": "stream",
     "text": [
      " 42%|████▏     | 54/128 [01:33<01:04,  1.16it/s]"
     ]
    },
    {
     "name": "stdout",
     "output_type": "stream",
     "text": [
      "[I 2024-05-15 10:28:27,869] Trial 53 finished with values: [0.14780100226256082, 90.0] and parameters: {'distribution': <function shrinked_gauss at 0x7f96f4319080>, 'mu': 0.8442526447511867, 'sigma': 1.2877287231917636}. \n"
     ]
    },
    {
     "name": "stderr",
     "output_type": "stream",
     "text": [
      " 43%|████▎     | 55/128 [01:33<00:48,  1.49it/s]"
     ]
    },
    {
     "name": "stdout",
     "output_type": "stream",
     "text": [
      "[I 2024-05-15 10:28:28,088] Trial 54 finished with values: [0.1440841187595227, 90.0] and parameters: {'distribution': <function shrinked_gauss at 0x7f96f4319080>, 'mu': 0.2871094479481129, 'sigma': 1.733244793406277}. \n"
     ]
    },
    {
     "name": "stderr",
     "output_type": "stream",
     "text": [
      " 44%|████▍     | 56/128 [01:33<00:39,  1.82it/s]"
     ]
    },
    {
     "name": "stdout",
     "output_type": "stream",
     "text": [
      "[I 2024-05-15 10:28:28,358] Trial 55 finished with values: [0.15103228839665858, 90.0] and parameters: {'distribution': <built-in method exponential of numpy.random.mtrand.RandomState object at 0x7f97440abb40>, 'scale': 0.21074970375547702}. \n"
     ]
    },
    {
     "name": "stderr",
     "output_type": "stream",
     "text": [
      " 45%|████▌     | 58/128 [01:45<03:10,  2.72s/it]"
     ]
    },
    {
     "name": "stdout",
     "output_type": "stream",
     "text": [
      "[I 2024-05-15 10:28:39,884] Trial 57 finished with values: [0.14942169698925323, 90.0] and parameters: {'distribution': <built-in method exponential of numpy.random.mtrand.RandomState object at 0x7f97440abb40>, 'scale': 0.22105742071062384}. \n",
      "[I 2024-05-15 10:28:39,998] Trial 56 finished with values: [0.150964338743849, 90.0] and parameters: {'distribution': <function shrinked_gauss at 0x7f96f4319080>, 'mu': 0.9591302761637632, 'sigma': 1.7088214261055505}. \n"
     ]
    },
    {
     "name": "stderr",
     "output_type": "stream",
     "text": [
      " 46%|████▌     | 59/128 [01:45<02:15,  1.96s/it]"
     ]
    },
    {
     "name": "stdout",
     "output_type": "stream",
     "text": [
      "[I 2024-05-15 10:28:40,177] Trial 58 finished with values: [0.1507668582520154, 90.0] and parameters: {'distribution': <function shrinked_gauss at 0x7f96f4319080>, 'mu': 0.21567583560499237, 'sigma': 1.2305276120359216}. \n"
     ]
    },
    {
     "name": "stderr",
     "output_type": "stream",
     "text": [
      " 47%|████▋     | 60/128 [01:45<01:38,  1.44s/it]"
     ]
    },
    {
     "name": "stdout",
     "output_type": "stream",
     "text": [
      "[I 2024-05-15 10:28:40,413] Trial 59 finished with values: [0.15216905740745829, 90.0] and parameters: {'distribution': <function shrinked_gauss at 0x7f96f4319080>, 'mu': 0.04763098269486077, 'sigma': 1.4531558020080164}. \n"
     ]
    },
    {
     "name": "stderr",
     "output_type": "stream",
     "text": [
      " 48%|████▊     | 62/128 [01:46<00:56,  1.16it/s]"
     ]
    },
    {
     "name": "stdout",
     "output_type": "stream",
     "text": [
      "[I 2024-05-15 10:28:41,188] Trial 60 finished with values: [0.14336521901298646, 90.0] and parameters: {'distribution': <function shrinked_gauss at 0x7f96f4319080>, 'mu': 0.30694852511549553, 'sigma': 0.5540097196232538}. \n",
      "[I 2024-05-15 10:28:41,189] Trial 62 finished with values: [0.1449939950179418, 90.0] and parameters: {'distribution': <function shrinked_gauss at 0x7f96f4319080>, 'mu': 0.11467324058259853, 'sigma': 1.6511152078591598}. \n",
      "[I 2024-05-15 10:28:41,312] Trial 61 finished with values: [0.16019201803234004, 90.0] and parameters: {'distribution': <built-in method exponential of numpy.random.mtrand.RandomState object at 0x7f97440abb40>, 'scale': 0.42935703042814277}. \n"
     ]
    },
    {
     "name": "stderr",
     "output_type": "stream",
     "text": [
      " 50%|█████     | 64/128 [01:47<00:41,  1.52it/s]"
     ]
    },
    {
     "name": "stdout",
     "output_type": "stream",
     "text": [
      "[I 2024-05-15 10:28:41,942] Trial 63 finished with values: [0.14444078357504947, 90.0] and parameters: {'distribution': <function shrinked_gauss at 0x7f96f4319080>, 'mu': 0.16566804983539773, 'sigma': 1.394209261253418}. \n"
     ]
    },
    {
     "name": "stderr",
     "output_type": "stream",
     "text": [
      " 51%|█████     | 65/128 [01:58<03:09,  3.00s/it]"
     ]
    },
    {
     "name": "stdout",
     "output_type": "stream",
     "text": [
      "[I 2024-05-15 10:28:53,201] Trial 64 finished with values: [0.16306200262948317, 90.0] and parameters: {'distribution': <function shrinked_gauss at 0x7f96f4319080>, 'mu': 0.7481850004693027, 'sigma': 0.378406663453861}. \n",
      "[I 2024-05-15 10:28:53,399] Trial 65 finished with values: [0.1564823990747352, 90.0] and parameters: {'distribution': <built-in method exponential of numpy.random.mtrand.RandomState object at 0x7f97440abb40>, 'scale': 0.20265729369979507}. \n"
     ]
    },
    {
     "name": "stderr",
     "output_type": "stream",
     "text": [
      " 52%|█████▏    | 66/128 [01:58<02:24,  2.33s/it]"
     ]
    },
    {
     "name": "stdout",
     "output_type": "stream",
     "text": [
      "[I 2024-05-15 10:28:53,518] Trial 66 finished with values: [0.1366778031444967, 90.0] and parameters: {'distribution': <function shrinked_gauss at 0x7f96f4319080>, 'mu': 0.6311122578589873, 'sigma': 1.6583362641181405}. \n"
     ]
    },
    {
     "name": "stderr",
     "output_type": "stream",
     "text": [
      " 53%|█████▎    | 68/128 [01:58<01:27,  1.46s/it]"
     ]
    },
    {
     "name": "stdout",
     "output_type": "stream",
     "text": [
      "[I 2024-05-15 10:28:53,785] Trial 67 finished with values: [0.15242296358339993, 90.0] and parameters: {'distribution': <function shrinked_gauss at 0x7f96f4319080>, 'mu': 0.5958378488787717, 'sigma': 0.6294400489791567}. \n"
     ]
    },
    {
     "name": "stderr",
     "output_type": "stream",
     "text": [
      " 55%|█████▍    | 70/128 [01:59<00:55,  1.05it/s]"
     ]
    },
    {
     "name": "stdout",
     "output_type": "stream",
     "text": [
      "[I 2024-05-15 10:28:54,133] Trial 68 finished with values: [0.13986517464792744, 90.0] and parameters: {'distribution': <function shrinked_gauss at 0x7f96f4319080>, 'mu': 0.5274759751098905, 'sigma': 0.5086822221552227}. \n",
      "[I 2024-05-15 10:28:54,292] Trial 69 finished with values: [0.14318682761031062, 90.0] and parameters: {'distribution': <built-in method exponential of numpy.random.mtrand.RandomState object at 0x7f97440abb40>, 'scale': 0.6485073181467055}. \n"
     ]
    },
    {
     "name": "stderr",
     "output_type": "stream",
     "text": [
      " 55%|█████▌    | 71/128 [01:59<00:43,  1.32it/s]"
     ]
    },
    {
     "name": "stdout",
     "output_type": "stream",
     "text": [
      "[I 2024-05-15 10:28:54,485] Trial 70 finished with values: [0.1388760397773852, 90.0] and parameters: {'distribution': <built-in method exponential of numpy.random.mtrand.RandomState object at 0x7f97440abb40>, 'scale': 0.1354591675520851}. \n"
     ]
    },
    {
     "name": "stderr",
     "output_type": "stream",
     "text": [
      " 56%|█████▋    | 72/128 [02:00<00:43,  1.28it/s]"
     ]
    },
    {
     "name": "stdout",
     "output_type": "stream",
     "text": [
      "[I 2024-05-15 10:28:55,328] Trial 71 finished with values: [0.14123765635775007, 90.0] and parameters: {'distribution': <built-in method exponential of numpy.random.mtrand.RandomState object at 0x7f97440abb40>, 'scale': 0.11652097476159885}. \n"
     ]
    },
    {
     "name": "stderr",
     "output_type": "stream",
     "text": [
      " 58%|█████▊    | 74/128 [02:11<02:18,  2.56s/it]"
     ]
    },
    {
     "name": "stdout",
     "output_type": "stream",
     "text": [
      "[I 2024-05-15 10:29:05,925] Trial 72 finished with values: [0.14400713257161982, 90.0] and parameters: {'distribution': <built-in method exponential of numpy.random.mtrand.RandomState object at 0x7f97440abb40>, 'scale': 0.6537717115757686}. \n",
      "[I 2024-05-15 10:29:06,100] Trial 74 finished with values: [0.1479674412352087, 90.0] and parameters: {'distribution': <function shrinked_gauss at 0x7f96f4319080>, 'mu': 0.11081725028429501, 'sigma': 1.1100664947394352}. \n"
     ]
    },
    {
     "name": "stderr",
     "output_type": "stream",
     "text": [
      " 58%|█████▊    | 74/128 [02:11<02:18,  2.56s/it]"
     ]
    },
    {
     "name": "stdout",
     "output_type": "stream",
     "text": [
      "[I 2024-05-15 10:29:06,191] Trial 73 finished with values: [0.15121457522569667, 90.0] and parameters: {'distribution': <built-in method exponential of numpy.random.mtrand.RandomState object at 0x7f97440abb40>, 'scale': 0.5542679908015345}. \n"
     ]
    },
    {
     "name": "stderr",
     "output_type": "stream",
     "text": [
      " 59%|█████▉    | 76/128 [02:11<01:19,  1.53s/it]"
     ]
    },
    {
     "name": "stdout",
     "output_type": "stream",
     "text": [
      "[I 2024-05-15 10:29:06,613] Trial 77 finished with values: [0.1481817921907325, 90.0] and parameters: {'distribution': <function shrinked_gauss at 0x7f96f4319080>, 'mu': 0.18125759426469634, 'sigma': 1.2706340427351155}. \n",
      "[I 2024-05-15 10:29:06,661] Trial 75 finished with values: [0.1530159406193487, 90.0] and parameters: {'distribution': <built-in method exponential of numpy.random.mtrand.RandomState object at 0x7f97440abb40>, 'scale': 0.4313488323753374}. \n"
     ]
    },
    {
     "name": "stderr",
     "output_type": "stream",
     "text": [
      " 61%|██████    | 78/128 [02:12<00:51,  1.02s/it]"
     ]
    },
    {
     "name": "stdout",
     "output_type": "stream",
     "text": [
      "[I 2024-05-15 10:29:07,073] Trial 76 finished with values: [0.14565915606583957, 90.0] and parameters: {'distribution': <built-in method exponential of numpy.random.mtrand.RandomState object at 0x7f97440abb40>, 'scale': 0.8290885803200483}. \n"
     ]
    },
    {
     "name": "stderr",
     "output_type": "stream",
     "text": [
      " 62%|██████▏   | 79/128 [02:12<00:42,  1.15it/s]"
     ]
    },
    {
     "name": "stdout",
     "output_type": "stream",
     "text": [
      "[I 2024-05-15 10:29:07,392] Trial 78 finished with values: [0.14881143994907328, 90.0] and parameters: {'distribution': <function shrinked_gauss at 0x7f96f4319080>, 'mu': 0.8177389666788831, 'sigma': 1.795034508495262}. \n"
     ]
    },
    {
     "name": "stderr",
     "output_type": "stream",
     "text": [
      " 62%|██████▎   | 80/128 [02:13<00:36,  1.30it/s]"
     ]
    },
    {
     "name": "stdout",
     "output_type": "stream",
     "text": [
      "[I 2024-05-15 10:29:07,830] Trial 79 finished with values: [0.14926277218240241, 90.0] and parameters: {'distribution': <built-in method exponential of numpy.random.mtrand.RandomState object at 0x7f97440abb40>, 'scale': 0.2264456668680615}. \n"
     ]
    },
    {
     "name": "stderr",
     "output_type": "stream",
     "text": [
      " 64%|██████▍   | 82/128 [02:24<02:00,  2.62s/it]"
     ]
    },
    {
     "name": "stdout",
     "output_type": "stream",
     "text": [
      "[I 2024-05-15 10:29:19,487] Trial 81 finished with values: [0.13674470028697752, 90.0] and parameters: {'distribution': <function shrinked_gauss at 0x7f96f4319080>, 'mu': 0.36452407151542887, 'sigma': 1.6758448848580487}. \n",
      "[I 2024-05-15 10:29:19,609] Trial 80 finished with values: [0.14957450011086498, 90.0] and parameters: {'distribution': <function shrinked_gauss at 0x7f96f4319080>, 'mu': 0.2334754387131529, 'sigma': 0.3101603119446124}. \n"
     ]
    },
    {
     "name": "stderr",
     "output_type": "stream",
     "text": [
      " 65%|██████▍   | 83/128 [02:25<01:28,  1.96s/it]"
     ]
    },
    {
     "name": "stdout",
     "output_type": "stream",
     "text": [
      "[I 2024-05-15 10:29:19,830] Trial 82 finished with values: [0.15366489339417685, 90.0] and parameters: {'distribution': <function shrinked_gauss at 0x7f96f4319080>, 'mu': 0.923201870397361, 'sigma': 0.12947098868968582}. \n"
     ]
    },
    {
     "name": "stderr",
     "output_type": "stream",
     "text": [
      " 66%|██████▌   | 84/128 [02:25<01:06,  1.52s/it]"
     ]
    },
    {
     "name": "stdout",
     "output_type": "stream",
     "text": [
      "[I 2024-05-15 10:29:20,237] Trial 83 finished with values: [0.15047881546627365, 90.0] and parameters: {'distribution': <function shrinked_gauss at 0x7f96f4319080>, 'mu': 0.5602167108719669, 'sigma': 0.7027752441786626}. \n",
      "[I 2024-05-15 10:29:20,320] Trial 84 finished with values: [0.15634936933215554, 90.0] and parameters: {'distribution': <built-in method exponential of numpy.random.mtrand.RandomState object at 0x7f97440abb40>, 'scale': 0.15471280179059474}. \n"
     ]
    },
    {
     "name": "stderr",
     "output_type": "stream",
     "text": [
      " 67%|██████▋   | 86/128 [02:25<00:39,  1.07it/s]"
     ]
    },
    {
     "name": "stdout",
     "output_type": "stream",
     "text": [
      "[I 2024-05-15 10:29:20,651] Trial 85 finished with values: [0.15248996097349618, 90.0] and parameters: {'distribution': <built-in method exponential of numpy.random.mtrand.RandomState object at 0x7f97440abb40>, 'scale': 0.9398095009423216}. \n"
     ]
    },
    {
     "name": "stderr",
     "output_type": "stream",
     "text": [
      " 68%|██████▊   | 87/128 [02:26<00:31,  1.30it/s]"
     ]
    },
    {
     "name": "stdout",
     "output_type": "stream",
     "text": [
      "[I 2024-05-15 10:29:20,907] Trial 86 finished with values: [0.14655380989124045, 90.0] and parameters: {'distribution': <function shrinked_gauss at 0x7f96f4319080>, 'mu': 0.08486785467814983, 'sigma': 0.9278006945595694}. \n"
     ]
    },
    {
     "name": "stderr",
     "output_type": "stream",
     "text": [
      " 69%|██████▉   | 88/128 [02:26<00:27,  1.44it/s]"
     ]
    },
    {
     "name": "stdout",
     "output_type": "stream",
     "text": [
      "[I 2024-05-15 10:29:21,352] Trial 87 finished with values: [0.14697521501828764, 90.0] and parameters: {'distribution': <built-in method exponential of numpy.random.mtrand.RandomState object at 0x7f97440abb40>, 'scale': 0.1349913693375347}. \n"
     ]
    },
    {
     "name": "stderr",
     "output_type": "stream",
     "text": [
      " 70%|██████▉   | 89/128 [02:37<02:11,  3.38s/it]"
     ]
    },
    {
     "name": "stdout",
     "output_type": "stream",
     "text": [
      "[I 2024-05-15 10:29:32,076] Trial 88 finished with values: [0.14780677161841502, 90.0] and parameters: {'distribution': <function shrinked_gauss at 0x7f96f4319080>, 'mu': 0.12931854586705593, 'sigma': 1.3511680182207786}. \n"
     ]
    },
    {
     "name": "stderr",
     "output_type": "stream",
     "text": [
      " 70%|███████   | 90/128 [02:37<01:36,  2.54s/it]"
     ]
    },
    {
     "name": "stdout",
     "output_type": "stream",
     "text": [
      "[I 2024-05-15 10:29:32,433] Trial 89 finished with values: [0.15059181162134425, 90.0] and parameters: {'distribution': <built-in method exponential of numpy.random.mtrand.RandomState object at 0x7f97440abb40>, 'scale': 0.6145318673117663}. \n"
     ]
    },
    {
     "name": "stderr",
     "output_type": "stream",
     "text": [
      " 71%|███████   | 91/128 [02:38<01:11,  1.93s/it]"
     ]
    },
    {
     "name": "stdout",
     "output_type": "stream",
     "text": [
      "[I 2024-05-15 10:29:32,825] Trial 90 finished with values: [0.15525213377689492, 90.0] and parameters: {'distribution': <function shrinked_gauss at 0x7f96f4319080>, 'mu': 0.6928803942946408, 'sigma': 1.7814522703861306}. \n"
     ]
    },
    {
     "name": "stderr",
     "output_type": "stream",
     "text": [
      " 72%|███████▏  | 92/128 [02:38<00:53,  1.48s/it]"
     ]
    },
    {
     "name": "stdout",
     "output_type": "stream",
     "text": [
      "[I 2024-05-15 10:29:33,159] Trial 92 finished with values: [0.15247864681929416, 90.0] and parameters: {'distribution': <built-in method exponential of numpy.random.mtrand.RandomState object at 0x7f97440abb40>, 'scale': 0.9385969373932737}. \n"
     ]
    },
    {
     "name": "stderr",
     "output_type": "stream",
     "text": [
      " 73%|███████▎  | 93/128 [02:38<00:39,  1.13s/it]"
     ]
    },
    {
     "name": "stdout",
     "output_type": "stream",
     "text": [
      "[I 2024-05-15 10:29:33,467] Trial 91 finished with values: [0.14357052872801263, 90.0] and parameters: {'distribution': <built-in method exponential of numpy.random.mtrand.RandomState object at 0x7f97440abb40>, 'scale': 0.621694972791057}. \n",
      "[I 2024-05-15 10:29:33,660] Trial 94 finished with values: [0.14644171037568987, 90.0] and parameters: {'distribution': <built-in method exponential of numpy.random.mtrand.RandomState object at 0x7f97440abb40>, 'scale': 0.7109196810708309}. \n"
     ]
    },
    {
     "name": "stderr",
     "output_type": "stream",
     "text": [
      " 74%|███████▍  | 95/128 [02:39<00:23,  1.42it/s]"
     ]
    },
    {
     "name": "stdout",
     "output_type": "stream",
     "text": [
      "[I 2024-05-15 10:29:34,003] Trial 93 finished with values: [0.15003328870128296, 90.0] and parameters: {'distribution': <built-in method exponential of numpy.random.mtrand.RandomState object at 0x7f97440abb40>, 'scale': 0.4272156378278108}. \n",
      "[I 2024-05-15 10:29:34,183] Trial 95 finished with values: [0.15237914040743386, 90.0] and parameters: {'distribution': <function shrinked_gauss at 0x7f96f4319080>, 'mu': 0.27530598705087395, 'sigma': 0.49906886723273947}. \n"
     ]
    },
    {
     "name": "stderr",
     "output_type": "stream",
     "text": [
      " 76%|███████▌  | 97/128 [02:49<01:46,  3.44s/it]"
     ]
    },
    {
     "name": "stdout",
     "output_type": "stream",
     "text": [
      "[I 2024-05-15 10:29:44,440] Trial 96 finished with values: [0.14827075778622997, 90.0] and parameters: {'distribution': <function shrinked_gauss at 0x7f96f4319080>, 'mu': 0.1483257220123292, 'sigma': 1.8953128343626255}. \n"
     ]
    },
    {
     "name": "stderr",
     "output_type": "stream",
     "text": [
      " 77%|███████▋  | 98/128 [02:49<01:14,  2.48s/it]"
     ]
    },
    {
     "name": "stdout",
     "output_type": "stream",
     "text": [
      "[I 2024-05-15 10:29:44,674] Trial 97 finished with values: [0.15413351216666768, 90.0] and parameters: {'distribution': <function shrinked_gauss at 0x7f96f4319080>, 'mu': 0.20792348605053979, 'sigma': 1.0363820226408014}. \n"
     ]
    },
    {
     "name": "stderr",
     "output_type": "stream",
     "text": [
      " 77%|███████▋  | 99/128 [02:50<00:57,  1.97s/it]"
     ]
    },
    {
     "name": "stdout",
     "output_type": "stream",
     "text": [
      "[I 2024-05-15 10:29:45,448] Trial 98 finished with values: [0.1469407588503811, 90.0] and parameters: {'distribution': <built-in method exponential of numpy.random.mtrand.RandomState object at 0x7f97440abb40>, 'scale': 0.42201888896320294}. \n"
     ]
    },
    {
     "name": "stderr",
     "output_type": "stream",
     "text": [
      " 79%|███████▉  | 101/128 [02:51<00:29,  1.08s/it]"
     ]
    },
    {
     "name": "stdout",
     "output_type": "stream",
     "text": [
      "[I 2024-05-15 10:29:45,788] Trial 99 finished with values: [0.13795411687405537, 90.0] and parameters: {'distribution': <function shrinked_gauss at 0x7f96f4319080>, 'mu': 0.9008090723347381, 'sigma': 1.8943909264008603}. \n",
      "[I 2024-05-15 10:29:45,941] Trial 100 finished with values: [0.12918258593560883, 90.0] and parameters: {'distribution': <built-in method exponential of numpy.random.mtrand.RandomState object at 0x7f97440abb40>, 'scale': 0.6602570879589631}. \n"
     ]
    },
    {
     "name": "stderr",
     "output_type": "stream",
     "text": [
      " 80%|███████▉  | 102/128 [02:51<00:24,  1.07it/s]"
     ]
    },
    {
     "name": "stdout",
     "output_type": "stream",
     "text": [
      "[I 2024-05-15 10:29:46,539] Trial 102 finished with values: [0.14584756336721325, 90.0] and parameters: {'distribution': <built-in method exponential of numpy.random.mtrand.RandomState object at 0x7f97440abb40>, 'scale': 0.24356255183628195}. \n"
     ]
    },
    {
     "name": "stderr",
     "output_type": "stream",
     "text": [
      " 81%|████████▏ | 104/128 [02:52<00:13,  1.78it/s]"
     ]
    },
    {
     "name": "stdout",
     "output_type": "stream",
     "text": [
      "[I 2024-05-15 10:29:46,807] Trial 101 finished with values: [0.14336550307396018, 90.0] and parameters: {'distribution': <function shrinked_gauss at 0x7f96f4319080>, 'mu': 0.6757327489783818, 'sigma': 0.5681873101424862}. \n",
      "[I 2024-05-15 10:29:46,952] Trial 103 finished with values: [0.1453884348548788, 90.0] and parameters: {'distribution': <built-in method exponential of numpy.random.mtrand.RandomState object at 0x7f97440abb40>, 'scale': 0.7306915612741287}. \n"
     ]
    },
    {
     "name": "stderr",
     "output_type": "stream",
     "text": [
      " 82%|████████▏ | 105/128 [03:02<01:18,  3.41s/it]"
     ]
    },
    {
     "name": "stdout",
     "output_type": "stream",
     "text": [
      "[I 2024-05-15 10:29:57,008] Trial 104 finished with values: [0.1406855896884898, 90.0] and parameters: {'distribution': <function shrinked_gauss at 0x7f96f4319080>, 'mu': 0.12001862930323559, 'sigma': 0.6105949724244178}. \n"
     ]
    },
    {
     "name": "stderr",
     "output_type": "stream",
     "text": [
      " 83%|████████▎ | 106/128 [03:02<00:54,  2.45s/it]"
     ]
    },
    {
     "name": "stdout",
     "output_type": "stream",
     "text": [
      "[I 2024-05-15 10:29:57,236] Trial 105 finished with values: [0.15472865601396696, 90.0] and parameters: {'distribution': <built-in method exponential of numpy.random.mtrand.RandomState object at 0x7f97440abb40>, 'scale': 0.8617374076174934}. \n"
     ]
    },
    {
     "name": "stderr",
     "output_type": "stream",
     "text": [
      " 84%|████████▎ | 107/128 [03:03<00:42,  2.01s/it]"
     ]
    },
    {
     "name": "stdout",
     "output_type": "stream",
     "text": [
      "[I 2024-05-15 10:29:58,204] Trial 107 finished with values: [0.14999275803694753, 90.0] and parameters: {'distribution': <built-in method exponential of numpy.random.mtrand.RandomState object at 0x7f97440abb40>, 'scale': 0.9694142622014643}. \n"
     ]
    },
    {
     "name": "stderr",
     "output_type": "stream",
     "text": [
      " 84%|████████▍ | 108/128 [03:03<00:30,  1.51s/it]"
     ]
    },
    {
     "name": "stdout",
     "output_type": "stream",
     "text": [
      "[I 2024-05-15 10:29:58,539] Trial 106 finished with values: [0.1562883440867269, 90.0] and parameters: {'distribution': <built-in method exponential of numpy.random.mtrand.RandomState object at 0x7f97440abb40>, 'scale': 0.9430423966706969}. \n"
     ]
    },
    {
     "name": "stderr",
     "output_type": "stream",
     "text": [
      " 85%|████████▌ | 109/128 [03:04<00:21,  1.16s/it]"
     ]
    },
    {
     "name": "stdout",
     "output_type": "stream",
     "text": [
      "[I 2024-05-15 10:29:58,873] Trial 109 finished with values: [0.1495392383296819, 90.0] and parameters: {'distribution': <function shrinked_gauss at 0x7f96f4319080>, 'mu': 0.4583554898320046, 'sigma': 1.3201014958514168}. \n"
     ]
    },
    {
     "name": "stderr",
     "output_type": "stream",
     "text": [
      " 86%|████████▌ | 110/128 [03:04<00:15,  1.15it/s]"
     ]
    },
    {
     "name": "stdout",
     "output_type": "stream",
     "text": [
      "[I 2024-05-15 10:29:59,078] Trial 108 finished with values: [0.15711003815687494, 90.0] and parameters: {'distribution': <built-in method exponential of numpy.random.mtrand.RandomState object at 0x7f97440abb40>, 'scale': 0.9898195733547219}. \n"
     ]
    },
    {
     "name": "stderr",
     "output_type": "stream",
     "text": [
      " 88%|████████▊ | 112/128 [03:04<00:08,  1.82it/s]"
     ]
    },
    {
     "name": "stdout",
     "output_type": "stream",
     "text": [
      "[I 2024-05-15 10:29:59,498] Trial 111 finished with values: [0.14858939591940626, 90.0] and parameters: {'distribution': <function shrinked_gauss at 0x7f96f4319080>, 'mu': 0.4652917585450682, 'sigma': 0.9708747968062511}. \n",
      "[I 2024-05-15 10:29:59,615] Trial 110 finished with values: [0.14944396048960615, 90.0] and parameters: {'distribution': <function shrinked_gauss at 0x7f96f4319080>, 'mu': 0.6379873097605746, 'sigma': 0.49793164579220306}. \n"
     ]
    },
    {
     "name": "stderr",
     "output_type": "stream",
     "text": [
      " 88%|████████▊ | 113/128 [03:14<00:50,  3.34s/it]"
     ]
    },
    {
     "name": "stdout",
     "output_type": "stream",
     "text": [
      "[I 2024-05-15 10:30:09,464] Trial 112 finished with values: [0.14668761303268588, 90.0] and parameters: {'distribution': <built-in method exponential of numpy.random.mtrand.RandomState object at 0x7f97440abb40>, 'scale': 0.556211915295564}. \n"
     ]
    },
    {
     "name": "stderr",
     "output_type": "stream",
     "text": [
      " 89%|████████▉ | 114/128 [03:15<00:34,  2.47s/it]"
     ]
    },
    {
     "name": "stdout",
     "output_type": "stream",
     "text": [
      "[I 2024-05-15 10:30:09,922] Trial 113 finished with values: [0.1513485826549211, 90.0] and parameters: {'distribution': <function shrinked_gauss at 0x7f96f4319080>, 'mu': 0.560195076304648, 'sigma': 0.2793709455611103}. \n"
     ]
    },
    {
     "name": "stderr",
     "output_type": "stream",
     "text": [
      " 91%|█████████ | 116/128 [03:16<00:18,  1.53s/it]"
     ]
    },
    {
     "name": "stdout",
     "output_type": "stream",
     "text": [
      "[I 2024-05-15 10:30:11,161] Trial 115 finished with values: [0.1447522447473906, 90.0] and parameters: {'distribution': <built-in method exponential of numpy.random.mtrand.RandomState object at 0x7f97440abb40>, 'scale': 0.19467600352234216}. \n",
      "[I 2024-05-15 10:30:11,335] Trial 114 finished with values: [0.14685750235715198, 90.0] and parameters: {'distribution': <built-in method exponential of numpy.random.mtrand.RandomState object at 0x7f97440abb40>, 'scale': 0.7598710233305865}. \n"
     ]
    },
    {
     "name": "stderr",
     "output_type": "stream",
     "text": [
      " 91%|█████████▏| 117/128 [03:16<00:13,  1.21s/it]"
     ]
    },
    {
     "name": "stdout",
     "output_type": "stream",
     "text": [
      "[I 2024-05-15 10:30:11,809] Trial 116 finished with values: [0.1388014809093572, 90.0] and parameters: {'distribution': <built-in method exponential of numpy.random.mtrand.RandomState object at 0x7f97440abb40>, 'scale': 0.15230502940742086}. \n",
      "[I 2024-05-15 10:30:11,852] Trial 117 finished with values: [0.137481138023837, 90.0] and parameters: {'distribution': <built-in method exponential of numpy.random.mtrand.RandomState object at 0x7f97440abb40>, 'scale': 0.11409562173366038}. \n"
     ]
    },
    {
     "name": "stderr",
     "output_type": "stream",
     "text": [
      " 93%|█████████▎| 119/128 [03:17<00:07,  1.27it/s]"
     ]
    },
    {
     "name": "stdout",
     "output_type": "stream",
     "text": [
      "[I 2024-05-15 10:30:12,389] Trial 118 finished with values: [0.14326851926736564, 90.0] and parameters: {'distribution': <function shrinked_gauss at 0x7f96f4319080>, 'mu': 0.14871339275648965, 'sigma': 0.4572178843986352}. \n"
     ]
    },
    {
     "name": "stderr",
     "output_type": "stream",
     "text": [
      " 94%|█████████▍| 120/128 [03:17<00:05,  1.50it/s]"
     ]
    },
    {
     "name": "stdout",
     "output_type": "stream",
     "text": [
      "[I 2024-05-15 10:30:12,701] Trial 119 finished with values: [0.14998944267467335, 90.0] and parameters: {'distribution': <function shrinked_gauss at 0x7f96f4319080>, 'mu': 0.1380619409834556, 'sigma': 1.9614955368680516}. \n"
     ]
    },
    {
     "name": "stderr",
     "output_type": "stream",
     "text": [
      " 95%|█████████▍| 121/128 [03:26<00:19,  2.82s/it]"
     ]
    },
    {
     "name": "stdout",
     "output_type": "stream",
     "text": [
      "[I 2024-05-15 10:30:21,619] Trial 120 finished with values: [0.1460384158959517, 90.0] and parameters: {'distribution': <built-in method exponential of numpy.random.mtrand.RandomState object at 0x7f97440abb40>, 'scale': 0.9912843826132163}. \n"
     ]
    },
    {
     "name": "stderr",
     "output_type": "stream",
     "text": [
      " 95%|█████████▌| 122/128 [03:27<00:13,  2.25s/it]"
     ]
    },
    {
     "name": "stdout",
     "output_type": "stream",
     "text": [
      "[I 2024-05-15 10:30:22,356] Trial 121 finished with values: [0.1500113711975349, 90.0] and parameters: {'distribution': <function shrinked_gauss at 0x7f96f4319080>, 'mu': 0.5453929092014451, 'sigma': 0.11203567259722352}. \n"
     ]
    },
    {
     "name": "stderr",
     "output_type": "stream",
     "text": [
      " 96%|█████████▌| 123/128 [03:28<00:09,  1.93s/it]"
     ]
    },
    {
     "name": "stdout",
     "output_type": "stream",
     "text": [
      "[I 2024-05-15 10:30:23,428] Trial 123 finished with values: [0.14547508212398977, 90.0] and parameters: {'distribution': <built-in method exponential of numpy.random.mtrand.RandomState object at 0x7f97440abb40>, 'scale': 0.1366223292148321}. \n"
     ]
    },
    {
     "name": "stderr",
     "output_type": "stream",
     "text": [
      " 97%|█████████▋| 124/128 [03:29<00:05,  1.46s/it]"
     ]
    },
    {
     "name": "stdout",
     "output_type": "stream",
     "text": [
      "[I 2024-05-15 10:30:23,727] Trial 122 finished with values: [0.14922878386467153, 90.0] and parameters: {'distribution': <built-in method exponential of numpy.random.mtrand.RandomState object at 0x7f97440abb40>, 'scale': 0.7939176521602666}. \n",
      "[I 2024-05-15 10:30:23,897] Trial 125 finished with values: [0.14629068005488327, 90.0] and parameters: {'distribution': <function shrinked_gauss at 0x7f96f4319080>, 'mu': 0.04229568346664614, 'sigma': 1.3740719627153888}. \n"
     ]
    },
    {
     "name": "stderr",
     "output_type": "stream",
     "text": [
      " 98%|█████████▊| 125/128 [03:29<00:03,  1.09s/it]"
     ]
    },
    {
     "name": "stdout",
     "output_type": "stream",
     "text": [
      "[I 2024-05-15 10:30:23,984] Trial 124 finished with values: [0.15121802166799905, 90.0] and parameters: {'distribution': <function shrinked_gauss at 0x7f96f4319080>, 'mu': 0.6959871009245481, 'sigma': 1.560239568777599}. \n"
     ]
    },
    {
     "name": "stderr",
     "output_type": "stream",
     "text": [
      " 99%|█████████▉| 127/128 [03:29<00:00,  1.34it/s]"
     ]
    },
    {
     "name": "stdout",
     "output_type": "stream",
     "text": [
      "[I 2024-05-15 10:30:24,579] Trial 126 finished with values: [0.14441498994078386, 90.0] and parameters: {'distribution': <built-in method exponential of numpy.random.mtrand.RandomState object at 0x7f97440abb40>, 'scale': 0.13733739164174535}. \n",
      "[I 2024-05-15 10:30:24,753] Trial 127 finished with values: [0.15237944683210974, 90.0] and parameters: {'distribution': <function shrinked_gauss at 0x7f96f4319080>, 'mu': 0.2176713310014191, 'sigma': 0.16269447590900676}. \n"
     ]
    },
    {
     "name": "stderr",
     "output_type": "stream",
     "text": [
      "100%|██████████| 128/128 [03:29<00:00,  1.64s/it]\n"
     ]
    }
   ],
   "source": [
    "with warnings.catch_warnings():\n",
    "    warnings.simplefilter(\"ignore\")\n",
    "    study = optuna.create_study(directions=['maximize', 'maximize'])\n",
    "    study.optimize(objective, n_trials=128, n_jobs=8, gc_after_trial=True, show_progress_bar=True)"
   ]
  },
  {
   "cell_type": "code",
   "execution_count": 7,
   "metadata": {},
   "outputs": [],
   "source": [
    "best_study = study.trials[np.argmax(list(map(lambda t: t.values[0], filter(lambda t: t.values[1] > 15, study.trials))))]\n"
   ]
  },
  {
   "cell_type": "code",
   "execution_count": null,
   "metadata": {},
   "outputs": [],
   "source": [
    "best_study"
   ]
  },
  {
   "cell_type": "markdown",
   "metadata": {},
   "source": [
    "### Pairwise simillarity\n",
    "\n",
    " values=[0.16011994043042055, 90.0]\n",
    "\n",
    "{'distribution': <function RandomState.exponential>,\n",
    " 'scale': 0.7673727163364142}"
   ]
  }
 ],
 "metadata": {
  "kernelspec": {
   "display_name": "hubenv",
   "language": "python",
   "name": "python3"
  },
  "language_info": {
   "codemirror_mode": {
    "name": "ipython",
    "version": 3
   },
   "file_extension": ".py",
   "mimetype": "text/x-python",
   "name": "python",
   "nbconvert_exporter": "python",
   "pygments_lexer": "ipython3",
   "version": "3.11.5"
  }
 },
 "nbformat": 4,
 "nbformat_minor": 2
}
